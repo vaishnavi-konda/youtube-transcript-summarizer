{
  "cells": [
    {
      "cell_type": "markdown",
      "metadata": {
        "id": "view-in-github",
        "colab_type": "text"
      },
      "source": [
        "<a href=\"https://colab.research.google.com/github/vaishnavi-konda/youtube-transcript-summarizer/blob/main/Copy_of_Harsha_Copy.ipynb\" target=\"_parent\"><img src=\"https://colab.research.google.com/assets/colab-badge.svg\" alt=\"Open In Colab\"/></a>"
      ]
    },
    {
      "cell_type": "code",
      "execution_count": null,
      "metadata": {
        "id": "bZvs1n93Hl3P"
      },
      "outputs": [],
      "source": [
        "%%capture \n",
        "!pip install --upgrade yt_dlp\n",
        "!pip install pydub SpeechRecognition ffmpeg ffprobe googletrans==3.1.0a0 transformers\n",
        "!pip install rouge\n",
        "import yt_dlp\n",
        "import time\n",
        "import re\n",
        "import os\n",
        "from pydub import AudioSegment\n",
        "import speech_recognition as sr\n",
        "import math\n",
        "from tqdm import tqdm\n",
        "from googletrans import Translator\n",
        "from threading import Thread\n",
        "!pip install transformers[torch]==4.3\n",
        "!pip install packaging==21.3\n",
        "!pip install torch\n",
        "!pip install sentencepiece\n",
        "import torch\n",
        "from transformers import T5Tokenizer\n",
        "from transformers import T5ForConditionalGeneration\n",
        "from transformers import T5Config\n",
        "!pip install gtts\n",
        "from gtts import gTTS\n",
        "from IPython.display import Audio, display\n",
        "from rouge import Rouge\n",
        "import json"
      ]
    },
    {
      "cell_type": "code",
      "execution_count": null,
      "metadata": {
        "colab": {
          "base_uri": "https://localhost:8080/",
          "height": 433
        },
        "id": "lbZFtbqWPkd1",
        "outputId": "f3c5a345-d7bd-485f-92cf-497f91dbd101"
      },
      "outputs": [
        {
          "output_type": "stream",
          "name": "stdout",
          "text": [
            "Looking in indexes: https://pypi.org/simple, https://us-python.pkg.dev/colab-wheels/public/simple/\n",
            "Collecting anvil-uplink\n",
            "  Downloading anvil_uplink-0.4.2-py2.py3-none-any.whl (90 kB)\n",
            "\u001b[2K     \u001b[90m━━━━━━━━━━━━━━━━━━━━━━━━━━━━━━━━━━━━━━━━\u001b[0m \u001b[32m90.1/90.1 kB\u001b[0m \u001b[31m3.3 MB/s\u001b[0m eta \u001b[36m0:00:00\u001b[0m\n",
            "\u001b[?25hCollecting argparse (from anvil-uplink)\n",
            "  Downloading argparse-1.4.0-py2.py3-none-any.whl (23 kB)\n",
            "Requirement already satisfied: future in /usr/local/lib/python3.10/dist-packages (from anvil-uplink) (0.18.3)\n",
            "Requirement already satisfied: six in /usr/local/lib/python3.10/dist-packages (from anvil-uplink) (1.16.0)\n",
            "Collecting ws4py (from anvil-uplink)\n",
            "  Downloading ws4py-0.5.1.tar.gz (51 kB)\n",
            "\u001b[2K     \u001b[90m━━━━━━━━━━━━━━━━━━━━━━━━━━━━━━━━━━━━━━━━\u001b[0m \u001b[32m51.4/51.4 kB\u001b[0m \u001b[31m5.4 MB/s\u001b[0m eta \u001b[36m0:00:00\u001b[0m\n",
            "\u001b[?25h  Preparing metadata (setup.py) ... \u001b[?25l\u001b[?25hdone\n",
            "Building wheels for collected packages: ws4py\n",
            "  Building wheel for ws4py (setup.py) ... \u001b[?25l\u001b[?25hdone\n",
            "  Created wheel for ws4py: filename=ws4py-0.5.1-py3-none-any.whl size=45228 sha256=5ac7bce53fcbe906a291a5862be2a52d68cf1b265a82c11c12e558fccb417bc0\n",
            "  Stored in directory: /root/.cache/pip/wheels/2e/7c/ad/d9c746276bf024d44296340869fcb169f1e5d80fb147351a57\n",
            "Successfully built ws4py\n",
            "Installing collected packages: ws4py, argparse, anvil-uplink\n",
            "Successfully installed anvil-uplink-0.4.2 argparse-1.4.0 ws4py-0.5.1\n"
          ]
        },
        {
          "output_type": "display_data",
          "data": {
            "application/vnd.colab-display-data+json": {
              "pip_warning": {
                "packages": [
                  "argparse",
                  "google"
                ]
              }
            }
          },
          "metadata": {}
        }
      ],
      "source": [
        "!pip install anvil-uplink"
      ]
    },
    {
      "cell_type": "code",
      "execution_count": null,
      "metadata": {
        "colab": {
          "base_uri": "https://localhost:8080/"
        },
        "id": "i5YM3cxTPsfQ",
        "outputId": "4b3a76d8-c154-4261-b777-b993160fbd58"
      },
      "outputs": [
        {
          "output_type": "stream",
          "name": "stdout",
          "text": [
            "Connecting to wss://anvil.works/uplink\n",
            "Anvil websocket open\n",
            "Connected to \"Default Environment\" as SERVER\n"
          ]
        }
      ],
      "source": [
        "import anvil.server\n",
        "\n",
        "anvil.server.connect(\"server_OGM6JCVQ6AH4Q4LREDA2GRAC-AQVTOKX2GAGASCF3\")"
      ]
    },
    {
      "cell_type": "code",
      "execution_count": null,
      "metadata": {
        "id": "ZWBf85vtVOLC"
      },
      "outputs": [],
      "source": [
        "url=''\n",
        "@anvil.server.callable\n",
        "def input_text(yurl): \n",
        "  url = yurl\n",
        "  ydl_opts={}\n",
        "\n",
        "  with yt_dlp.YoutubeDL(ydl_opts) as ydl:\n",
        "          info_dict = ydl.extract_info(url, download=False)\n",
        "  video_title = info_dict['title']\n",
        "  video_name = re.sub('[\\\\\\\\/*?:\"<>|]', '', video_title)\n",
        "  name = video_name\n",
        "  ydl_opts = {\n",
        "     'format': 'm4a/bestaudio/best',\n",
        "         'noplaylist': True,\n",
        "         'continue_dl': True,\n",
        "         'outtmpl': f'./{name}.wav',\n",
        "         'postprocessors': [{\n",
        "             'key': 'FFmpegExtractAudio',\n",
        "             'preferredcodec': 'wav',\n",
        "             'preferredquality': '192',\n",
        "         }],\n",
        "         'geobypass':True,\n",
        "         'ffmpeg_location':'/usr/bin/ffmpeg'\n",
        "  }\n",
        "\n",
        "  with yt_dlp.YoutubeDL(ydl_opts) as ydl:\n",
        "      error_code = ydl.download(url)\n",
        "  #Splitting audio\n",
        "  class SplitWavAudioMubin():\n",
        "      def __init__(self, folder, filename):\n",
        "          self.folder = folder\n",
        "          self.filename = filename\n",
        "          self.filepath = folder + filename\n",
        "        # print(self.filepath)\n",
        "          self.audio = AudioSegment.from_wav(self.filepath)\n",
        "    \n",
        "      def get_duration(self):\n",
        "          return self.audio.duration_seconds\n",
        "    \n",
        "      def single_split(self, from_min, to_min, split_filename):\n",
        "          t1 = from_min * 60 * 1000\n",
        "          t2 = to_min * 60 * 1000\n",
        "          split_audio = self.audio[t1:t2]\n",
        "          split_audio.export(split_filename, format=\"wav\")\n",
        "        \n",
        "      def multiple_split(self, min_per_split):\n",
        "          total_mins = math.ceil(self.get_duration() / 60)\n",
        "          for i in range(0, total_mins, min_per_split):\n",
        "              split_fn = str(i) + '_' + self.filename\n",
        "              self.single_split(i, i+min_per_split, split_fn)\n",
        "              if i == total_mins - min_per_split:\n",
        "                  print('All splited successfully')\n",
        "          print('>>> Video duration: ' + str(self.get_duration()))\n",
        "        \n",
        "  def split_audio(file_name):\n",
        "        directory = \"splitted files for: \" + file_name\n",
        "        os.mkdir(directory)\n",
        "        split_wav = SplitWavAudioMubin(\"/content/\", file_name)\n",
        "        split_wav.multiple_split(min_per_split=1)\n",
        "\n",
        "  file_name = \"{}.wav.wav\".format(video_name)\n",
        "  split_audio(file_name)\n",
        "  search_dir = \"./\"\n",
        "  files = filter(os.path.isfile, os.listdir(search_dir))\n",
        "  files = [os.path.join(search_dir, f) for f in files] # add path to each file\n",
        "  files.sort(key=lambda x: os.path.getmtime(x))\n",
        "\n",
        "  def speech_recognizer(files, frames, i):  ## This function recognizes speech in our WAV files\n",
        "    texts = []\n",
        "    recognizer = sr.Recognizer()\n",
        "\n",
        "    for file in tqdm(files):\n",
        "        with sr.AudioFile(file) as source:\n",
        "            recorded_audio = recognizer.listen(source)\n",
        "        try:\n",
        "            text = recognizer.recognize_google(\n",
        "                recorded_audio,\n",
        "                language=\"en-US\"  ## Replace with language keyword\n",
        "            )\n",
        "            texts.append(text)\n",
        "        except Exception as ex:\n",
        "            print(ex)\n",
        "    result = \"\"\n",
        "    for text in texts:\n",
        "        result += \" \" + text\n",
        "    frames[i] = result\n",
        "    return result\n",
        "\n",
        "  def split_files(files, n_batches): ## This function split the files evenly between the threads we have.\n",
        "    k, m = divmod(len(files), n_batches)\n",
        "    return list(files[i*k+min(i, m):(i+1)*k+min(i+1, m)] for i in range(n_batches))\n",
        "\n",
        "  def main(n_batches=8, verbose=True): ## By default, the maximum capacity of threads supported in collab is 8\n",
        "    threads = [None]*n_batches\n",
        "    frames = [None]*n_batches\n",
        "    batches = split_files(files, n_batches)\n",
        "    start = 0\n",
        "    for i in range(len(batches)):\n",
        "        if i>0:\n",
        "            start_index=len(batches[i-1])\n",
        "        else:\n",
        "            start_index = 0\n",
        "        t = Thread(target=speech_recognizer, args=(batches[i], frames, i))\n",
        "        threads[i] = t\n",
        "        t.start()\n",
        "    for t in threads:\n",
        "        t.join()\n",
        "    return frames\n",
        "  \n",
        "  frames1 = main()\n",
        "  result1 = \"\"\n",
        "  for text in frames1:\n",
        "      result1 += \" \" + text\n",
        "  print(result1)\n",
        "  os.chdir(\"../\")\n",
        "  text_file = open(\"Transcription_\"+ file_name[:-4] +\".txt\", \"w\")\n",
        "  text_file.write(result1)\n",
        "  text_file.close()\n",
        "  model = T5ForConditionalGeneration.from_pretrained('t5-large')\n",
        "  tokenizer = T5Tokenizer.from_pretrained('t5-large')\n",
        "  device = torch.device('cpu')\n",
        "  text=result1\n",
        "\n",
        "  preprocessed_text =text.strip().replace('\\n','')\n",
        "  t5_input_text = 'summarize: ' + preprocessed_text\n",
        "  ml=len(t5_input_text.split())\n",
        "  tokenized_text = tokenizer.encode(t5_input_text, return_tensors='pt', max_length=ml).to(device)\n",
        "  summary_ids = model.generate(tokenized_text, min_length=30, max_length=200)\n",
        "  summary = tokenizer.decode(summary_ids[0], skip_special_tokens=True)\n",
        "  \n",
        "  #return summary      \n",
        "  #This module is imported so that we can\n",
        "  #play the converted audio\n",
        "  #Provide the string to convert to speech\n",
        "  tts = gTTS(summary)                     \n",
        "  #save the string converted to speech as a .wav file    \n",
        "  tts.save('final.wav') \n",
        "  sound_file = 'final.wav'\n",
        "  display(Audio(sound_file, autoplay=True))\n",
        "  return summary\n"
      ]
    },
    {
      "cell_type": "code",
      "execution_count": null,
      "metadata": {
        "id": "9_oQ-nVOLnbe"
      },
      "outputs": [],
      "source": [
        "@anvil.server.callable\n",
        "def eval(fref,summary):\n",
        "  reference=fref\n",
        "  rouge = Rouge()\n",
        "  r_score=rouge.get_scores(summary, reference)\n",
        "  print(json.dumps(r_score))\n",
        "  return json.dumps(r_score)"
      ]
    },
    {
      "cell_type": "code",
      "execution_count": null,
      "metadata": {
        "colab": {
          "background_save": true,
          "base_uri": "https://localhost:8080/",
          "height": 1000,
          "referenced_widgets": [
            "7a3f96bcbd174e9fa794d361e6630745",
            "cc5e8ea4848e42b89ec629cea7ae417c",
            "fc81e41e6379482bb23c255d0a9c6c9d",
            "87ab55f866e24ee1b1689d05fc51ad81",
            "a220bb3f074e48fabca43d96368311b5",
            "24deb700725d492f91f3b1518dc01710",
            "a8e4156d32a7404c83547e517e89b2d4",
            "2e3a6dfb79a44ab590e7178b9a01d3b1",
            "ee37c7e1cf934ae99b39146e42bb8c5e",
            "3a450977a5a14796bbf7e0ba69a5b307",
            "54aba4de9a34431b9d7d4fd1bf79cf43",
            "11c2fa1cf0e84b63b576a5fa5f4fa7e5",
            "aa0691a9c8654da1854779af33beb954",
            "a3c5119562014aafa16e3070dd075d66",
            "7ac46d0a36d7489ba57a5ec84e77f788",
            "edda840cde0e4421ada1c61179d00b64",
            "d7f8e828a3a247e5990c4860aad72569",
            "327e030d4dd34b7f8c4745d4babf52af",
            "fc7cbb3267814550a6d79f0c589f7057",
            "2ab10e5cc4de436f88a378dcb7ce7152",
            "034d6bc83665404493cff12cd7259d91",
            "c4f95e02d4444c079d08479325ac189c",
            "92d56af9f6874f7c90f4c7042df98394",
            "b56aa007cea34d62b41bd0cb27bc9394",
            "15a6e17d3867432c962813346d5d1f5b",
            "62aa59b9b8a94044b9c62c421f405eb4",
            "f363f0187fa14dc982c2e5c3ef6e7c0d",
            "fdbeb3b078ed445e9959e18deae46ce5",
            "30b3cfca3d71441883c5467cbf4ae6c7",
            "8a0258c9eab34f5983ba27c276f616a7",
            "c7626b4187d747deb402b422749dc7cb",
            "8aade110e4b748339159625e8f35ad06",
            "67063804266448ad8a4fc8f45328f64f",
            "748a92f9e0be4c7ba402fe37b4478f4f",
            "5ef50ce12d8a4c5484faa16e8daa3fb5",
            "227cddde2e6f40afa9d1b57a08e66c72",
            "5fdb83de62354bda82a23910cf42c933",
            "bd5a36bfc37c4087b4f342ab2f295236",
            "bcbb10e105d64ee49360f2a83c2a15c5",
            "9984c1d3ec2d496f891b4ad9804e7265",
            "88911dd26c0142a39c9dc5af8a94f538",
            "b5b45ab74fdd4412aa302a97eb08f2d3",
            "806441acdabd4f5f8a94c1a5a210703b",
            "4f4c4d9c5c494d69b6880b362c584800"
          ]
        },
        "id": "HLibD3ehXf8o",
        "outputId": "0f28ddcc-3dde-4b49-8e80-f0d44b09f9c4"
      },
      "outputs": [
        {
          "output_type": "stream",
          "name": "stdout",
          "text": [
            "[youtube] Extracting URL: https://youtu.be/QUTYxwTsbiM\n",
            "[youtube] QUTYxwTsbiM: Downloading webpage\n",
            "[youtube] QUTYxwTsbiM: Downloading android player API JSON\n",
            "[youtube] Extracting URL: https://youtu.be/QUTYxwTsbiM\n",
            "[youtube] QUTYxwTsbiM: Downloading webpage\n",
            "[youtube] QUTYxwTsbiM: Downloading android player API JSON\n",
            "[info] QUTYxwTsbiM: Downloading 1 format(s): 140\n",
            "[dashsegments] Total fragments: 1\n",
            "[download] Destination: ./Clever Fish - English Stories For Kids  Moral Stories In English  Short Story In English.wav\n",
            "[download] 100% of    3.27MiB in 00:00:00 at 5.91MiB/s               \n",
            "[FixupM4a] Correcting container of \"./Clever Fish - English Stories For Kids  Moral Stories In English  Short Story In English.wav\"\n",
            "[ExtractAudio] Destination: ./Clever Fish - English Stories For Kids  Moral Stories In English  Short Story In English.wav.wav\n",
            "Deleting original file ./Clever Fish - English Stories For Kids  Moral Stories In English  Short Story In English.wav (pass -k to keep)\n",
            "All splited successfully\n",
            ">>> Video duration: 211.69632653061225\n"
          ]
        },
        {
          "output_type": "stream",
          "name": "stderr",
          "text": [
            "\n",
            "\n",
            "  0%|          | 0/1 [00:00<?, ?it/s]\u001b[A\u001b[A\n",
            "  0%|          | 0/1 [00:00<?, ?it/s]\n",
            "\n",
            "\n",
            "\n",
            "\n",
            "\n",
            "  0%|          | 0/1 [00:00<?, ?it/s]\u001b[A\u001b[A\u001b[A\u001b[A\u001b[A\u001b[A\n",
            "\n",
            "\n",
            "\n",
            "\n",
            "0it [00:00, ?it/s]\n",
            "\n",
            "\n",
            "\n",
            "\n",
            "\n",
            "\n",
            "\n",
            "0it [00:00, ?it/s]\n",
            "\n",
            "\n",
            "\n",
            "\n",
            "0it [00:00, ?it/s]\n",
            "\n",
            "\n",
            "\n",
            "100%|██████████| 1/1 [00:01<00:00,  1.43s/it]\n",
            "\n",
            "\n",
            "\n",
            "\n",
            "\n",
            "\n",
            "100%|██████████| 1/1 [00:01<00:00,  1.84s/it]\n",
            "\n",
            "\n",
            "\n",
            "100%|██████████| 1/1 [00:03<00:00,  3.47s/it]\n",
            "\n",
            "100%|██████████| 1/1 [00:06<00:00,  6.13s/it]\n",
            "\n",
            "\n",
            "100%|██████████| 1/1 [00:06<00:00,  6.28s/it]\n"
          ]
        },
        {
          "output_type": "stream",
          "name": "stdout",
          "text": [
            "  subscribe to Sonic octaves kids channel and press the Bell icon to watch new cartoon videos  subscribe to Sonic octaves kids channel and press the Bell icon to watch new cartoon videos  but then it's just me he saw just one tiny little fish in that net grab hold of that fish but then suddenly the fish started talking to him  Bank of Beaver so that when you come next time you have much more fisherman talk to himself tomorrow I will get a lot of more fish because  would bring the fish was very clever and because of his cleverness he saved his life from this fisherman so children you have to be really really clever to save your life from such challenging moments   \n"
          ]
        },
        {
          "output_type": "display_data",
          "data": {
            "text/plain": [
              "Downloading (…)lve/main/config.json:   0%|          | 0.00/1.21k [00:00<?, ?B/s]"
            ],
            "application/vnd.jupyter.widget-view+json": {
              "version_major": 2,
              "version_minor": 0,
              "model_id": "7a3f96bcbd174e9fa794d361e6630745"
            }
          },
          "metadata": {}
        },
        {
          "output_type": "display_data",
          "data": {
            "text/plain": [
              "Downloading pytorch_model.bin:   0%|          | 0.00/2.95G [00:00<?, ?B/s]"
            ],
            "application/vnd.jupyter.widget-view+json": {
              "version_major": 2,
              "version_minor": 0,
              "model_id": "11c2fa1cf0e84b63b576a5fa5f4fa7e5"
            }
          },
          "metadata": {}
        },
        {
          "output_type": "display_data",
          "data": {
            "text/plain": [
              "Downloading (…)neration_config.json:   0%|          | 0.00/147 [00:00<?, ?B/s]"
            ],
            "application/vnd.jupyter.widget-view+json": {
              "version_major": 2,
              "version_minor": 0,
              "model_id": "92d56af9f6874f7c90f4c7042df98394"
            }
          },
          "metadata": {}
        },
        {
          "output_type": "display_data",
          "data": {
            "text/plain": [
              "Downloading (…)ve/main/spiece.model:   0%|          | 0.00/792k [00:00<?, ?B/s]"
            ],
            "application/vnd.jupyter.widget-view+json": {
              "version_major": 2,
              "version_minor": 0,
              "model_id": "748a92f9e0be4c7ba402fe37b4478f4f"
            }
          },
          "metadata": {}
        },
        {
          "output_type": "stream",
          "name": "stderr",
          "text": [
            "/usr/local/lib/python3.10/dist-packages/transformers/models/t5/tokenization_t5.py:163: FutureWarning: This tokenizer was incorrectly instantiated with a model max length of 512 which will be corrected in Transformers v5.\n",
            "For now, this behavior is kept to avoid breaking backwards compatibility when padding/encoding with `truncation is True`.\n",
            "- Be aware that you SHOULD NOT rely on t5-large automatically truncating your input to 512 when padding/encoding.\n",
            "- If you want to encode/pad to sequences longer than 512 you can either instantiate this tokenizer with `model_max_length` or pass `max_length` when encoding/padding.\n",
            "- To avoid this warning, please instantiate this tokenizer with `model_max_length` set to your preferred value.\n",
            "  warnings.warn(\n"
          ]
        },
        {
          "output_type": "display_data",
          "data": {
            "text/plain": [
              "<IPython.lib.display.Audio object>"
            ],
            "text/html": [
              "\n",
              "                <audio  controls=\"controls\" autoplay=\"autoplay\">\n",
              "                    <source src=\"data:audio/x-wav;base64,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\" type=\"audio/x-wav\" />\n",
              "                    Your browser does not support the audio element.\n",
              "                </audio>\n",
              "              "
            ]
          },
          "metadata": {}
        }
      ],
      "source": [
        "anvil.server.wait_forever()"
      ]
    },
    {
      "cell_type": "code",
      "execution_count": null,
      "metadata": {
        "id": "L3hcdStoHlzR"
      },
      "outputs": [],
      "source": [
        "#Downloading audio\n",
        "url = \"https://youtu.be/QUTYxwTsbiM\"\n"
      ]
    },
    {
      "cell_type": "code",
      "execution_count": null,
      "metadata": {
        "colab": {
          "base_uri": "https://localhost:8080/"
        },
        "id": "3PXFGd3zHluW",
        "outputId": "1e661cf7-f884-4a51-ef1d-fb485b6783a0"
      },
      "outputs": [
        {
          "name": "stdout",
          "output_type": "stream",
          "text": [
            "[youtube] Extracting URL: https://youtu.be/QUTYxwTsbiM\n",
            "[youtube] QUTYxwTsbiM: Downloading webpage\n",
            "[youtube] QUTYxwTsbiM: Downloading android player API JSON\n",
            "[youtube] Extracting URL: https://youtu.be/QUTYxwTsbiM\n",
            "[youtube] QUTYxwTsbiM: Downloading webpage\n",
            "[youtube] QUTYxwTsbiM: Downloading android player API JSON\n",
            "[info] QUTYxwTsbiM: Downloading 1 format(s): 140\n",
            "[dashsegments] Total fragments: 1\n",
            "[download] Destination: ./Clever Fish - English Stories For Kids  Moral Stories In English  Short Story In English.wav\n",
            "[download] 100% of    3.27MiB in 00:00:00 at 12.75MiB/s              \n",
            "[FixupM4a] Correcting container of \"./Clever Fish - English Stories For Kids  Moral Stories In English  Short Story In English.wav\"\n",
            "[ExtractAudio] Destination: ./Clever Fish - English Stories For Kids  Moral Stories In English  Short Story In English.wav.wav\n",
            "Deleting original file ./Clever Fish - English Stories For Kids  Moral Stories In English  Short Story In English.wav (pass -k to keep)\n"
          ]
        }
      ],
      "source": [
        "ydl_opts={}\n",
        "\n",
        "with yt_dlp.YoutubeDL(ydl_opts) as ydl:\n",
        "        info_dict = ydl.extract_info(url, download=False)\n",
        "video_title = info_dict['title']\n",
        "video_name = re.sub('[\\\\\\\\/*?:\"<>|]', '', video_title)\n",
        "name = video_name\n",
        "ydl_opts = {\n",
        "     'format': 'm4a/bestaudio/best',\n",
        "         'noplaylist': True,\n",
        "         'continue_dl': True,\n",
        "         'outtmpl': f'./{name}.wav',\n",
        "         'postprocessors': [{\n",
        "             'key': 'FFmpegExtractAudio',\n",
        "             'preferredcodec': 'wav',\n",
        "             'preferredquality': '192',\n",
        "         }],\n",
        "         'geobypass':True,\n",
        "         'ffmpeg_location':'/usr/bin/ffmpeg'\n",
        " }\n",
        "\n",
        "with yt_dlp.YoutubeDL(ydl_opts) as ydl:\n",
        "     error_code = ydl.download(url)"
      ]
    },
    {
      "cell_type": "code",
      "execution_count": null,
      "metadata": {
        "id": "bG2nwgb9Hlpt"
      },
      "outputs": [],
      "source": [
        "#Splitting audio\n",
        "class SplitWavAudioMubin():\n",
        "    def __init__(self, folder, filename):\n",
        "        self.folder = folder\n",
        "        self.filename = filename\n",
        "        self.filepath = folder + filename\n",
        "        # print(self.filepath)\n",
        "        self.audio = AudioSegment.from_wav(self.filepath)\n",
        "    \n",
        "    def get_duration(self):\n",
        "        return self.audio.duration_seconds\n",
        "    \n",
        "    def single_split(self, from_min, to_min, split_filename):\n",
        "        t1 = from_min * 60 * 1000\n",
        "        t2 = to_min * 60 * 1000\n",
        "        split_audio = self.audio[t1:t2]\n",
        "        split_audio.export(split_filename, format=\"wav\")\n",
        "        \n",
        "    def multiple_split(self, min_per_split):\n",
        "        total_mins = math.ceil(self.get_duration() / 60)\n",
        "        for i in range(0, total_mins, min_per_split):\n",
        "            split_fn = str(i) + '_' + self.filename\n",
        "            self.single_split(i, i+min_per_split, split_fn)\n",
        "            if i == total_mins - min_per_split:\n",
        "                print('All splited successfully')\n",
        "        print('>>> Video duration: ' + str(self.get_duration()))\n",
        "        \n",
        "def split_audio(file_name):\n",
        "    directory = \"splitted files for: \" + file_name\n",
        "    os.mkdir(directory)\n",
        "    split_wav = SplitWavAudioMubin(\"/content/\", file_name)\n",
        "    split_wav.multiple_split(min_per_split=1)"
      ]
    },
    {
      "cell_type": "code",
      "execution_count": null,
      "metadata": {
        "colab": {
          "base_uri": "https://localhost:8080/"
        },
        "id": "iYVGGHPhHlll",
        "outputId": "144a45c7-c52c-4e59-c3d3-5d0a37cb9ed5"
      },
      "outputs": [
        {
          "name": "stdout",
          "output_type": "stream",
          "text": [
            "All splited successfully\n",
            ">>> Video duration: 211.69632653061225\n"
          ]
        }
      ],
      "source": [
        "file_name = \"{}.wav.wav\".format(video_name)\n",
        "split_audio(file_name)"
      ]
    },
    {
      "cell_type": "code",
      "execution_count": null,
      "metadata": {
        "colab": {
          "base_uri": "https://localhost:8080/"
        },
        "id": "cP-3S4JkHlh3",
        "outputId": "d018f9a1-98dd-4ee7-b59d-d9b182c02719"
      },
      "outputs": [
        {
          "data": {
            "text/plain": [
              "['./Clever Fish - English Stories For Kids  Moral Stories In English  Short Story In English.wav.wav',\n",
              " './0_Clever Fish - English Stories For Kids  Moral Stories In English  Short Story In English.wav.wav',\n",
              " './1_Clever Fish - English Stories For Kids  Moral Stories In English  Short Story In English.wav.wav',\n",
              " './2_Clever Fish - English Stories For Kids  Moral Stories In English  Short Story In English.wav.wav',\n",
              " './3_Clever Fish - English Stories For Kids  Moral Stories In English  Short Story In English.wav.wav']"
            ]
          },
          "execution_count": 6,
          "metadata": {},
          "output_type": "execute_result"
        }
      ],
      "source": [
        "#Recognizing text\n",
        "search_dir = \"./\"\n",
        "files = filter(os.path.isfile, os.listdir(search_dir))\n",
        "files = [os.path.join(search_dir, f) for f in files] # add path to each file\n",
        "files.sort(key=lambda x: os.path.getmtime(x))\n",
        "files"
      ]
    },
    {
      "cell_type": "code",
      "execution_count": null,
      "metadata": {
        "id": "irMUnU56Hlak"
      },
      "outputs": [],
      "source": [
        "def speech_recognizer(files, frames, i):  ## This function recognizes speech in our WAV files\n",
        "    texts = []\n",
        "    recognizer = sr.Recognizer()\n",
        "\n",
        "    for file in tqdm(files):\n",
        "        with sr.AudioFile(file) as source:\n",
        "            recorded_audio = recognizer.listen(source)\n",
        "        try:\n",
        "            text = recognizer.recognize_google(\n",
        "                recorded_audio,\n",
        "                language=\"en-US\"  ## Replace with language keyword\n",
        "            )\n",
        "            texts.append(text)\n",
        "        except Exception as ex:\n",
        "            print(ex)\n",
        "    result = \"\"\n",
        "    for text in texts:\n",
        "        result += \" \" + text\n",
        "    frames[i] = result\n",
        "    return result\n",
        "\n",
        "def split_files(files, n_batches): ## This function split the files evenly between the threads we have.\n",
        "    k, m = divmod(len(files), n_batches)\n",
        "    return list(files[i*k+min(i, m):(i+1)*k+min(i+1, m)] for i in range(n_batches))\n",
        "\n",
        "def main(n_batches=8, verbose=True): ## By default, the maximum capacity of threads supported in collab is 8\n",
        "    threads = [None]*n_batches\n",
        "    frames = [None]*n_batches\n",
        "    batches = split_files(files, n_batches)\n",
        "    start = 0\n",
        "    for i in range(len(batches)):\n",
        "        if i>0:\n",
        "            start_index=len(batches[i-1])\n",
        "        else:\n",
        "            start_index = 0\n",
        "        t = Thread(target=speech_recognizer, args=(batches[i], frames, i))\n",
        "        threads[i] = t\n",
        "        t.start()\n",
        "    for t in threads:\n",
        "        t.join()\n",
        "    return frames"
      ]
    },
    {
      "cell_type": "code",
      "execution_count": null,
      "metadata": {
        "colab": {
          "base_uri": "https://localhost:8080/"
        },
        "id": "Rzndb-tIHlPj",
        "outputId": "1970691a-48b5-4903-b2a2-c111fe1c91ab"
      },
      "outputs": [
        {
          "name": "stderr",
          "output_type": "stream",
          "text": [
            "\n",
            "\n",
            "0it [00:00, ?it/s]\n",
            "  0%|          | 0/1 [00:00<?, ?it/s]\n",
            "\n",
            "\n",
            "\n",
            "  0%|          | 0/1 [00:00<?, ?it/s]\u001b[A\u001b[A\u001b[A\u001b[A\n",
            "\n",
            "\n",
            "\n",
            "\n",
            "\n",
            "  0%|          | 0/1 [00:00<?, ?it/s]\u001b[A\u001b[A\u001b[A\u001b[A\u001b[A\u001b[A\n",
            "\n",
            "\n",
            "0it [00:00, ?it/s]\n",
            "\n",
            "  0%|          | 0/1 [00:00<?, ?it/s]\u001b[A\n",
            "\n",
            "\n",
            "\n",
            "\n",
            "  0%|          | 0/1 [00:00<?, ?it/s]\u001b[A\u001b[A\u001b[A\u001b[A\u001b[A\n",
            "\n",
            "0it [00:00, ?it/s]\n",
            "\n",
            "\n",
            "\n",
            "\n",
            "100%|██████████| 1/1 [00:01<00:00,  1.91s/it]\n",
            "\n",
            "\n",
            "\n",
            "\n",
            "\n",
            "100%|██████████| 1/1 [00:01<00:00,  1.97s/it]\n",
            "\n",
            "100%|██████████| 1/1 [00:06<00:00,  6.28s/it]\n",
            "\n",
            "\n",
            "\n",
            "\n",
            "\n",
            "\n",
            "100%|██████████| 1/1 [00:14<00:00, 14.97s/it]\n",
            "100%|██████████| 1/1 [00:15<00:00, 15.96s/it]\n"
          ]
        }
      ],
      "source": [
        "if __name__ == \"__main__\":\n",
        "    frames = main()"
      ]
    },
    {
      "cell_type": "code",
      "execution_count": null,
      "metadata": {
        "id": "XSrPHsm-Hk9l"
      },
      "outputs": [],
      "source": [
        "result = \"\"\n",
        "for text in frames:\n",
        "    result += \" \" + text\n",
        "\n",
        "os.chdir(\"../\")\n",
        "text_file = open(\"Transcription_\"+ file_name[:-4] +\".txt\", \"w\")\n",
        "text_file.write(result)\n",
        "text_file.close()"
      ]
    },
    {
      "cell_type": "code",
      "execution_count": null,
      "metadata": {
        "colab": {
          "base_uri": "https://localhost:8080/",
          "height": 122
        },
        "id": "FrFnu-HUJttm",
        "outputId": "dc54c38d-40fd-458e-bd9d-741809570112"
      },
      "outputs": [
        {
          "data": {
            "application/vnd.google.colaboratory.intrinsic+json": {
              "type": "string"
            },
            "text/plain": [
              "\"  subscribe to Sonic octave's kids channel and press the Bell icon to watch new cartoon videos  subscribe to Sonic octave's kids channel and press the Bell icon to watch new cartoon videos  but then do his discipline he saw just one tiny little fish in that net he grabbed hold of that fish but then suddenly the fish started talking to him tiny little fish said to the fisherman please please leave me please but fisherman did not give any attention to the request of the fish but then again the tiny little fish said to the fisherman something which is of your help if you leave me back in water I will tell all my friends about you and I will bring them here  Bank of river so that when you come next time you will have much more fish fisherman talk to himself wow that's not a bad deal at all he was thinking if I let go one time a little fish today tomorrow I will get a lot of more fish because this tiny little fish will bring all his friends to me believing the word of this tiny little fish fisherman let go the style of fish into the river again this tiny little fish was really happy and it's swam away happily into the river never to come back poor fisherman he came next day expecting that there will be a lot of fish that this tiny little  fish would bring but the tiny little fish was very clever and because of his cleverness he saved his life from this fisherman so children moral of the story is you have to be really really clever to save your life from such challenging moments   \""
            ]
          },
          "execution_count": 10,
          "metadata": {},
          "output_type": "execute_result"
        }
      ],
      "source": [
        "result"
      ]
    },
    {
      "cell_type": "code",
      "execution_count": null,
      "metadata": {
        "colab": {
          "base_uri": "https://localhost:8080/"
        },
        "id": "_glwVYxYa_3v",
        "outputId": "6e6acdbc-e426-4968-bb53-19d2db1ba834"
      },
      "outputs": [
        {
          "name": "stdout",
          "output_type": "stream",
          "text": [
            "Looking in indexes: https://pypi.org/simple, https://us-python.pkg.dev/colab-wheels/public/simple/\n",
            "Requirement already satisfied: transformers[torch]==4.3 in /usr/local/lib/python3.9/dist-packages (4.3.0)\n",
            "Requirement already satisfied: packaging in /usr/local/lib/python3.9/dist-packages (from transformers[torch]==4.3) (21.3)\n",
            "Requirement already satisfied: filelock in /usr/local/lib/python3.9/dist-packages (from transformers[torch]==4.3) (3.10.7)\n",
            "Requirement already satisfied: requests in /usr/local/lib/python3.9/dist-packages (from transformers[torch]==4.3) (2.27.1)\n",
            "Requirement already satisfied: sacremoses in /usr/local/lib/python3.9/dist-packages (from transformers[torch]==4.3) (0.0.53)\n",
            "Requirement already satisfied: tqdm>=4.27 in /usr/local/lib/python3.9/dist-packages (from transformers[torch]==4.3) (4.65.0)\n",
            "Requirement already satisfied: regex!=2019.12.17 in /usr/local/lib/python3.9/dist-packages (from transformers[torch]==4.3) (2022.10.31)\n",
            "Requirement already satisfied: tokenizers<0.11,>=0.10.1 in /usr/local/lib/python3.9/dist-packages (from transformers[torch]==4.3) (0.10.3)\n",
            "Requirement already satisfied: numpy>=1.17 in /usr/local/lib/python3.9/dist-packages (from transformers[torch]==4.3) (1.22.4)\n",
            "Requirement already satisfied: torch>=1.0 in /usr/local/lib/python3.9/dist-packages (from transformers[torch]==4.3) (2.0.0+cu118)\n",
            "Requirement already satisfied: jinja2 in /usr/local/lib/python3.9/dist-packages (from torch>=1.0->transformers[torch]==4.3) (3.1.2)\n",
            "Requirement already satisfied: networkx in /usr/local/lib/python3.9/dist-packages (from torch>=1.0->transformers[torch]==4.3) (3.0)\n",
            "Requirement already satisfied: typing-extensions in /usr/local/lib/python3.9/dist-packages (from torch>=1.0->transformers[torch]==4.3) (4.5.0)\n",
            "Requirement already satisfied: sympy in /usr/local/lib/python3.9/dist-packages (from torch>=1.0->transformers[torch]==4.3) (1.11.1)\n",
            "Requirement already satisfied: triton==2.0.0 in /usr/local/lib/python3.9/dist-packages (from torch>=1.0->transformers[torch]==4.3) (2.0.0)\n",
            "Requirement already satisfied: cmake in /usr/local/lib/python3.9/dist-packages (from triton==2.0.0->torch>=1.0->transformers[torch]==4.3) (3.25.2)\n",
            "Requirement already satisfied: lit in /usr/local/lib/python3.9/dist-packages (from triton==2.0.0->torch>=1.0->transformers[torch]==4.3) (16.0.0)\n",
            "Requirement already satisfied: pyparsing!=3.0.5,>=2.0.2 in /usr/local/lib/python3.9/dist-packages (from packaging->transformers[torch]==4.3) (3.0.9)\n",
            "Requirement already satisfied: urllib3<1.27,>=1.21.1 in /usr/local/lib/python3.9/dist-packages (from requests->transformers[torch]==4.3) (1.26.15)\n",
            "Requirement already satisfied: certifi>=2017.4.17 in /usr/local/lib/python3.9/dist-packages (from requests->transformers[torch]==4.3) (2022.12.7)\n",
            "Requirement already satisfied: charset-normalizer~=2.0.0 in /usr/local/lib/python3.9/dist-packages (from requests->transformers[torch]==4.3) (2.0.12)\n",
            "Requirement already satisfied: idna<4,>=2.5 in /usr/local/lib/python3.9/dist-packages (from requests->transformers[torch]==4.3) (2.10)\n",
            "Requirement already satisfied: six in /usr/local/lib/python3.9/dist-packages (from sacremoses->transformers[torch]==4.3) (1.16.0)\n",
            "Requirement already satisfied: click in /usr/local/lib/python3.9/dist-packages (from sacremoses->transformers[torch]==4.3) (8.1.3)\n",
            "Requirement already satisfied: joblib in /usr/local/lib/python3.9/dist-packages (from sacremoses->transformers[torch]==4.3) (1.1.1)\n",
            "Requirement already satisfied: MarkupSafe>=2.0 in /usr/local/lib/python3.9/dist-packages (from jinja2->torch>=1.0->transformers[torch]==4.3) (2.1.2)\n",
            "Requirement already satisfied: mpmath>=0.19 in /usr/local/lib/python3.9/dist-packages (from sympy->torch>=1.0->transformers[torch]==4.3) (1.3.0)\n",
            "Looking in indexes: https://pypi.org/simple, https://us-python.pkg.dev/colab-wheels/public/simple/\n",
            "Requirement already satisfied: packaging==21.3 in /usr/local/lib/python3.9/dist-packages (21.3)\n",
            "Requirement already satisfied: pyparsing!=3.0.5,>=2.0.2 in /usr/local/lib/python3.9/dist-packages (from packaging==21.3) (3.0.9)\n",
            "Looking in indexes: https://pypi.org/simple, https://us-python.pkg.dev/colab-wheels/public/simple/\n",
            "Requirement already satisfied: torch in /usr/local/lib/python3.9/dist-packages (2.0.0+cu118)\n",
            "Requirement already satisfied: jinja2 in /usr/local/lib/python3.9/dist-packages (from torch) (3.1.2)\n",
            "Requirement already satisfied: typing-extensions in /usr/local/lib/python3.9/dist-packages (from torch) (4.5.0)\n",
            "Requirement already satisfied: networkx in /usr/local/lib/python3.9/dist-packages (from torch) (3.0)\n",
            "Requirement already satisfied: sympy in /usr/local/lib/python3.9/dist-packages (from torch) (1.11.1)\n",
            "Requirement already satisfied: filelock in /usr/local/lib/python3.9/dist-packages (from torch) (3.10.7)\n",
            "Requirement already satisfied: triton==2.0.0 in /usr/local/lib/python3.9/dist-packages (from torch) (2.0.0)\n",
            "Requirement already satisfied: cmake in /usr/local/lib/python3.9/dist-packages (from triton==2.0.0->torch) (3.25.2)\n",
            "Requirement already satisfied: lit in /usr/local/lib/python3.9/dist-packages (from triton==2.0.0->torch) (16.0.0)\n",
            "Requirement already satisfied: MarkupSafe>=2.0 in /usr/local/lib/python3.9/dist-packages (from jinja2->torch) (2.1.2)\n",
            "Requirement already satisfied: mpmath>=0.19 in /usr/local/lib/python3.9/dist-packages (from sympy->torch) (1.3.0)\n",
            "Looking in indexes: https://pypi.org/simple, https://us-python.pkg.dev/colab-wheels/public/simple/\n",
            "Requirement already satisfied: sentencepiece in /usr/local/lib/python3.9/dist-packages (0.1.97)\n"
          ]
        }
      ],
      "source": [
        "!pip install transformers[torch]==4.3\n",
        "!pip install packaging==21.3\n",
        "!pip install torch\n",
        "!pip install sentencepiece"
      ]
    },
    {
      "cell_type": "code",
      "execution_count": null,
      "metadata": {
        "id": "f6DMYJgzcsS7"
      },
      "outputs": [],
      "source": [
        "import torch\n",
        "from transformers import T5Tokenizer\n",
        "from transformers import T5ForConditionalGeneration\n",
        "from transformers import T5Config"
      ]
    },
    {
      "cell_type": "code",
      "execution_count": null,
      "metadata": {
        "colab": {
          "base_uri": "https://localhost:8080/",
          "height": 113,
          "referenced_widgets": [
            "a6059a5e552a46848c8070ebe16d9ecd",
            "d5ed0c383d0a4973afeb2b4dbd3bfd9c",
            "2cc1379ed4914304b771415dd5dbcd7a",
            "da2f8274177743cdbd9eb39d6d29beff",
            "213cb3f477bf4506b138baff51a43f35",
            "361d98e2b7eb4f23b263d513edca4b18",
            "646d2c099a5e4b93a3e9b5e4bd97608e",
            "2f804c0f83e24bc8ab479b0fadf08403",
            "2f1ee389d2c042f2ae6018454ca969e0",
            "24289b9f7f524668a30a875a4ea09fe3",
            "be911d78fdfa400cbe9b739c22c3d60a",
            "a4c5862916a74f13a8a34865e4f4dc31",
            "4b7448d1ae7c4a47bef1d0f0b30aca9e",
            "8b61dbd7831549b09f18b2a27d5fa54e",
            "1fbc81658d7147539f07dec9727393dc",
            "bb0eb11472a94228a9ff6993e902b212",
            "d34ea35f825e419fb7d632ba15a0f0d2",
            "fd6bc96695364b28bee1c75b80eb0baa",
            "86ade24ad53146a3a2bc9f62ea12894c",
            "2623244c76194f348fdeab23936b8b09",
            "a2d91ac71a7946b680cbb99260dc8fac",
            "4cffa39f1f5d4b7ea5be387a09876784",
            "960ba5954faa4117b9b245a1afb73cf4",
            "c799684cdfb1433bbf21bcae234232cc",
            "0d064e76ed2f41ecbf8336f81e183a2d",
            "6d65ab3320524f04b3e83e1ea511a185",
            "1650f5406b684e4da9e0161763de0bcf",
            "1fde454007624451a79a0ebd97dacbba",
            "1184deb69cf846deb699f368639c646a",
            "694212e2319f44a7801a148e4f742ca9",
            "de33117b3a60407da4afe44c510037c9",
            "0b156d0427254f0a9daec0d44f792bad",
            "b8b6b9bedf6f43e8836ce019d5df5a7e"
          ]
        },
        "id": "HotyO8akkk2f",
        "outputId": "cb1df6b9-55bb-4507-c758-341ce6e97eeb"
      },
      "outputs": [
        {
          "data": {
            "application/vnd.jupyter.widget-view+json": {
              "model_id": "a6059a5e552a46848c8070ebe16d9ecd",
              "version_major": 2,
              "version_minor": 0
            },
            "text/plain": [
              "Downloading:   0%|          | 0.00/1.21k [00:00<?, ?B/s]"
            ]
          },
          "metadata": {},
          "output_type": "display_data"
        },
        {
          "data": {
            "application/vnd.jupyter.widget-view+json": {
              "model_id": "a4c5862916a74f13a8a34865e4f4dc31",
              "version_major": 2,
              "version_minor": 0
            },
            "text/plain": [
              "Downloading:   0%|          | 0.00/2.95G [00:00<?, ?B/s]"
            ]
          },
          "metadata": {},
          "output_type": "display_data"
        },
        {
          "data": {
            "application/vnd.jupyter.widget-view+json": {
              "model_id": "960ba5954faa4117b9b245a1afb73cf4",
              "version_major": 2,
              "version_minor": 0
            },
            "text/plain": [
              "Downloading:   0%|          | 0.00/792k [00:00<?, ?B/s]"
            ]
          },
          "metadata": {},
          "output_type": "display_data"
        }
      ],
      "source": [
        "# initialize the pretrained model\n",
        "model = T5ForConditionalGeneration.from_pretrained('t5-large')\n",
        "tokenizer = T5Tokenizer.from_pretrained('t5-large')\n",
        "device = torch.device('cpu')"
      ]
    },
    {
      "cell_type": "code",
      "execution_count": null,
      "metadata": {
        "id": "L1mgnmufjQE1"
      },
      "outputs": [],
      "source": [
        "text=result\n",
        "## preprocess the input text\n",
        "preprocessed_text =text.strip().replace('\\n','')\n",
        "t5_input_text = 'summarize: ' + preprocessed_text"
      ]
    },
    {
      "cell_type": "code",
      "execution_count": null,
      "metadata": {
        "colab": {
          "base_uri": "https://localhost:8080/",
          "height": 70
        },
        "id": "ZdzBQTHyKjAV",
        "outputId": "09d740b4-e3b3-4734-c071-a8a5901e885f"
      },
      "outputs": [
        {
          "data": {
            "application/vnd.google.colaboratory.intrinsic+json": {
              "type": "string"
            },
            "text/plain": [
              "\"subscribe to Sonic octave's kids channel and press the Bell icon to watch new cartoon videos. tiny little fish said to the fisherman please please leave me please but fisherman did not give any attention to the request of the fish. fisherman let go the style of fish into the river again this tiny little fish was really happy and it's swam away happily into the river never to come back.\""
            ]
          },
          "execution_count": 14,
          "metadata": {},
          "output_type": "execute_result"
        }
      ],
      "source": [
        "text=result\n",
        "## preprocess the input text\n",
        "preprocessed_text =text.strip().replace('\\n','')\n",
        "t5_input_text = 'summarize: ' + preprocessed_text\n",
        "ml=len(t5_input_text.split())\n",
        "tokenized_text = tokenizer.encode(t5_input_text, return_tensors='pt', max_length=ml).to(device)\n",
        "summary_ids = model.generate(tokenized_text, min_length=30, max_length=200)\n",
        "summary = tokenizer.decode(summary_ids[0], skip_special_tokens=True)\n",
        "summary"
      ]
    },
    {
      "cell_type": "code",
      "execution_count": null,
      "metadata": {
        "colab": {
          "base_uri": "https://localhost:8080/",
          "height": 122
        },
        "id": "UERUfZmOjQE1",
        "outputId": "7c96a80c-51f2-4bab-cd18-3ec50eafb274"
      },
      "outputs": [
        {
          "data": {
            "application/vnd.google.colaboratory.intrinsic+json": {
              "type": "string"
            },
            "text/plain": [
              "\"summarize: subscribe to Sonic octave's kids channel and press the Bell icon to watch new cartoon videos  subscribe to Sonic octave's kids channel and press the Bell icon to watch new cartoon videos  but then do his discipline he saw just one tiny little fish in that net he grabbed hold of that fish but then suddenly the fish started talking to him tiny little fish said to the fisherman please please leave me please but fisherman did not give any attention to the request of the fish but then again the tiny little fish said to the fisherman something which is of your help if you leave me back in water I will tell all my friends about you and I will bring them here  Bank of river so that when you come next time you will have much more fish fisherman talk to himself wow that's not a bad deal at all he was thinking if I let go one time a little fish today tomorrow I will get a lot of more fish because this tiny little fish will bring all his friends to me believing the word of this tiny little fish fisherman let go the style of fish into the river again this tiny little fish was really happy and it's swam away happily into the river never to come back poor fisherman he came next day expecting that there will be a lot of fish that this tiny little  fish would bring but the tiny little fish was very clever and because of his cleverness he saved his life from this fisherman so children moral of the story is you have to be really really clever to save your life from such challenging moments\""
            ]
          },
          "execution_count": 15,
          "metadata": {},
          "output_type": "execute_result"
        }
      ],
      "source": [
        "t5_input_text"
      ]
    },
    {
      "cell_type": "code",
      "execution_count": null,
      "metadata": {
        "id": "ByyjQmMBjQE1"
      },
      "outputs": [],
      "source": [
        "ml=len(t5_input_text.split())"
      ]
    },
    {
      "cell_type": "code",
      "execution_count": null,
      "metadata": {
        "id": "pLN9iBfxjQE1"
      },
      "outputs": [],
      "source": [
        "tokenized_text = tokenizer.encode(t5_input_text, return_tensors='pt', max_length=ml).to(device)"
      ]
    },
    {
      "cell_type": "code",
      "execution_count": null,
      "metadata": {
        "id": "56woK4NHjQE2"
      },
      "outputs": [],
      "source": [
        "summary_ids = model.generate(tokenized_text, min_length=30, max_length=200)\n",
        "summary = tokenizer.decode(summary_ids[0], skip_special_tokens=True)"
      ]
    },
    {
      "cell_type": "code",
      "execution_count": null,
      "metadata": {
        "colab": {
          "base_uri": "https://localhost:8080/",
          "height": 70
        },
        "id": "9xzWs3V1jQE2",
        "outputId": "4925ac42-a244-4699-9356-ac49082a30f4"
      },
      "outputs": [
        {
          "data": {
            "application/vnd.google.colaboratory.intrinsic+json": {
              "type": "string"
            },
            "text/plain": [
              "\"subscribe to Sonic octave's kids channel and press the Bell icon to watch new cartoon videos. tiny little fish said to the fisherman please please leave me please but fisherman did not give any attention to the request of the fish. fisherman let go the style of fish into the river again this tiny little fish was really happy and it's swam away happily into the river never to come back.\""
            ]
          },
          "execution_count": 19,
          "metadata": {},
          "output_type": "execute_result"
        }
      ],
      "source": [
        "summary"
      ]
    },
    {
      "cell_type": "code",
      "execution_count": null,
      "metadata": {
        "colab": {
          "base_uri": "https://localhost:8080/"
        },
        "id": "fw5s-1_JpnHf",
        "outputId": "cacfd885-2a0e-4171-b600-41c136fb1c65"
      },
      "outputs": [
        {
          "name": "stdout",
          "output_type": "stream",
          "text": [
            "Looking in indexes: https://pypi.org/simple, https://us-python.pkg.dev/colab-wheels/public/simple/\n",
            "Requirement already satisfied: gtts in /usr/local/lib/python3.9/dist-packages (2.3.1)\n",
            "Requirement already satisfied: click<8.2,>=7.1 in /usr/local/lib/python3.9/dist-packages (from gtts) (8.1.3)\n",
            "Requirement already satisfied: requests<3,>=2.27 in /usr/local/lib/python3.9/dist-packages (from gtts) (2.27.1)\n",
            "Requirement already satisfied: charset-normalizer~=2.0.0 in /usr/local/lib/python3.9/dist-packages (from requests<3,>=2.27->gtts) (2.0.12)\n",
            "Requirement already satisfied: urllib3<1.27,>=1.21.1 in /usr/local/lib/python3.9/dist-packages (from requests<3,>=2.27->gtts) (1.26.15)\n",
            "Requirement already satisfied: certifi>=2017.4.17 in /usr/local/lib/python3.9/dist-packages (from requests<3,>=2.27->gtts) (2022.12.7)\n",
            "Requirement already satisfied: idna<4,>=2.5 in /usr/local/lib/python3.9/dist-packages (from requests<3,>=2.27->gtts) (2.10)\n"
          ]
        }
      ],
      "source": [
        "# Import the required module for text\n",
        "# to speech conversion\n",
        "!pip install gtts\n",
        "from gtts import gTTS"
      ]
    },
    {
      "cell_type": "code",
      "execution_count": null,
      "metadata": {
        "colab": {
          "base_uri": "https://localhost:8080/"
        },
        "id": "PrjeSKlEnK30",
        "outputId": "ee83539d-9cf4-4a05-f31d-99910f5d1e6e"
      },
      "outputs": [
        {
          "data": {
            "text/plain": [
              "32512"
            ]
          },
          "execution_count": 30,
          "metadata": {},
          "output_type": "execute_result"
        }
      ],
      "source": [
        "# This module is imported so that we can\n",
        "# play the converted audio\n",
        "import os\n",
        "\n",
        "# The text that you want to convert to audio\n",
        "mytext = summary\n",
        "\n",
        "# Language in which you want to convert\n",
        "language = 'en'\n",
        "\n",
        "# Passing the text and language to the engine,\n",
        "# here we have marked slow=False. Which tells\n",
        "# the module that the converted audio should\n",
        "# have a high speed\n",
        "myobj = gTTS(text=mytext, lang=language, slow=False)\n",
        "\n",
        "# Saving the converted audio in a mp3 file named\n",
        "# welcome\n",
        "myobj.save(\"welcome.mp3\")\n",
        "\n",
        "# Playing the converted file\n",
        "os.system(\"mpg321 welcome.mp3\")\n"
      ]
    },
    {
      "cell_type": "code",
      "execution_count": null,
      "metadata": {
        "colab": {
          "base_uri": "https://localhost:8080/"
        },
        "id": "f8RI8zFi4oXX",
        "outputId": "b235cb3f-4dab-4b1f-c989-48d661bbb019"
      },
      "outputs": [
        {
          "name": "stdout",
          "output_type": "stream",
          "text": [
            "Looking in indexes: https://pypi.org/simple, https://us-python.pkg.dev/colab-wheels/public/simple/\n",
            "Requirement already satisfied: rouge in /usr/local/lib/python3.9/dist-packages (1.0.1)\n",
            "Requirement already satisfied: six in /usr/local/lib/python3.9/dist-packages (from rouge) (1.16.0)\n"
          ]
        }
      ],
      "source": [
        "pip install rouge"
      ]
    },
    {
      "cell_type": "code",
      "execution_count": null,
      "metadata": {
        "id": "jteOXOrk-kak"
      },
      "outputs": [],
      "source": [
        "from rouge import Rouge"
      ]
    },
    {
      "cell_type": "code",
      "execution_count": null,
      "metadata": {
        "id": "dNQoZygMVYFU"
      },
      "outputs": [],
      "source": [
        "summary=\"tiny little fish said to the fisherman please please leave me please but fisherman did not give any attention to the request of the fish. fisherman let go the style of fish into the river again this tiny little fish was really happy and it's swam away happily into the river never to come back.\""
      ]
    },
    {
      "cell_type": "code",
      "execution_count": null,
      "metadata": {
        "id": "cpQ6lYDF4yPm"
      },
      "outputs": [],
      "source": [
        "reference=\" Fisherman saw just one tiny little fish in that net he grabbed hold of that fish but then suddenly the fish started talking to him. The fish said to the fisherman that if you leave me back in water I will tell all my friends about you and I will bring them here  Bank of river so that when you come next time you will have much more fish. Fisherman thought that if I let go one time a little fish today tomorrow I will get a lot of more fish because this tiny little. fish will bring all his friends to me believing the word of this tiny. little fish fisherman let go the style of fish into the river again believing the fish.\""
      ]
    },
    {
      "cell_type": "code",
      "execution_count": null,
      "metadata": {
        "id": "vef6zqW9VW3m"
      },
      "outputs": [],
      "source": [
        "rouge = Rouge()\n",
        "dic=rouge.get_scores(summary, reference)"
      ]
    },
    {
      "cell_type": "code",
      "execution_count": null,
      "metadata": {
        "colab": {
          "base_uri": "https://localhost:8080/"
        },
        "id": "DIBcUd65WuAD",
        "outputId": "2d031877-2da1-4776-809d-1a78258a0b39"
      },
      "outputs": [
        {
          "data": {
            "text/plain": [
              "[{'rouge-1': {'r': 0.3088235294117647,\n",
              "   'p': 0.5833333333333334,\n",
              "   'f': 0.40384614931952667},\n",
              "  'rouge-2': {'r': 0.18181818181818182,\n",
              "   'p': 0.40816326530612246,\n",
              "   'f': 0.25157232277995334},\n",
              "  'rouge-l': {'r': 0.29411764705882354,\n",
              "   'p': 0.5555555555555556,\n",
              "   'f': 0.3846153800887574}}]"
            ]
          },
          "execution_count": 16,
          "metadata": {},
          "output_type": "execute_result"
        }
      ],
      "source": [
        "dic\n"
      ]
    },
    {
      "cell_type": "code",
      "execution_count": null,
      "metadata": {
        "colab": {
          "base_uri": "https://localhost:8080/"
        },
        "id": "eVeG8ZTyXBPi",
        "outputId": "a5f7d8ea-797d-4dc4-8522-19bf69e96d0f"
      },
      "outputs": [
        {
          "data": {
            "text/plain": [
              "str"
            ]
          },
          "execution_count": 18,
          "metadata": {},
          "output_type": "execute_result"
        }
      ],
      "source": [
        "import json\n",
        "type(json.dumps(dic))"
      ]
    },
    {
      "cell_type": "code",
      "execution_count": null,
      "metadata": {
        "colab": {
          "base_uri": "https://localhost:8080/"
        },
        "id": "k0IkNt6sV9h9",
        "outputId": "264def45-c2b4-4ae5-a365-f5af765f8e8a"
      },
      "outputs": [
        {
          "data": {
            "text/plain": [
              "list"
            ]
          },
          "execution_count": 13,
          "metadata": {},
          "output_type": "execute_result"
        }
      ],
      "source": [
        "type(dic)"
      ]
    },
    {
      "cell_type": "code",
      "execution_count": null,
      "metadata": {
        "colab": {
          "base_uri": "https://localhost:8080/"
        },
        "id": "h5JaAFpEVkG8",
        "outputId": "8ace6165-0864-4561-e068-5331d2a2ee72"
      },
      "outputs": [
        {
          "data": {
            "text/plain": [
              "['rouge-1rouge-2rouge-l']"
            ]
          },
          "execution_count": 15,
          "metadata": {},
          "output_type": "execute_result"
        }
      ],
      "source": [
        "res=[''.join(ele) for ele in dic]\n",
        "res"
      ]
    }
  ],
  "metadata": {
    "colab": {
      "provenance": [],
      "include_colab_link": true
    },
    "gpuClass": "standard",
    "kernelspec": {
      "display_name": "Python 3",
      "language": "python",
      "name": "python3"
    },
    "language_info": {
      "codemirror_mode": {
        "name": "ipython",
        "version": 3
      },
      "file_extension": ".py",
      "mimetype": "text/x-python",
      "name": "python",
      "nbconvert_exporter": "python",
      "pygments_lexer": "ipython3",
      "version": "3.10.0"
    },
    "vscode": {
      "interpreter": {
        "hash": "2d76fd9abfcc97b9919f016b0b1e3e0d460d04d81e3869a3105a026ec19a08c3"
      }
    },
    "widgets": {
      "application/vnd.jupyter.widget-state+json": {
        "0b156d0427254f0a9daec0d44f792bad": {
          "model_module": "@jupyter-widgets/base",
          "model_module_version": "1.2.0",
          "model_name": "LayoutModel",
          "state": {
            "_model_module": "@jupyter-widgets/base",
            "_model_module_version": "1.2.0",
            "_model_name": "LayoutModel",
            "_view_count": null,
            "_view_module": "@jupyter-widgets/base",
            "_view_module_version": "1.2.0",
            "_view_name": "LayoutView",
            "align_content": null,
            "align_items": null,
            "align_self": null,
            "border": null,
            "bottom": null,
            "display": null,
            "flex": null,
            "flex_flow": null,
            "grid_area": null,
            "grid_auto_columns": null,
            "grid_auto_flow": null,
            "grid_auto_rows": null,
            "grid_column": null,
            "grid_gap": null,
            "grid_row": null,
            "grid_template_areas": null,
            "grid_template_columns": null,
            "grid_template_rows": null,
            "height": null,
            "justify_content": null,
            "justify_items": null,
            "left": null,
            "margin": null,
            "max_height": null,
            "max_width": null,
            "min_height": null,
            "min_width": null,
            "object_fit": null,
            "object_position": null,
            "order": null,
            "overflow": null,
            "overflow_x": null,
            "overflow_y": null,
            "padding": null,
            "right": null,
            "top": null,
            "visibility": null,
            "width": null
          }
        },
        "0d064e76ed2f41ecbf8336f81e183a2d": {
          "model_module": "@jupyter-widgets/controls",
          "model_module_version": "1.5.0",
          "model_name": "FloatProgressModel",
          "state": {
            "_dom_classes": [],
            "_model_module": "@jupyter-widgets/controls",
            "_model_module_version": "1.5.0",
            "_model_name": "FloatProgressModel",
            "_view_count": null,
            "_view_module": "@jupyter-widgets/controls",
            "_view_module_version": "1.5.0",
            "_view_name": "ProgressView",
            "bar_style": "success",
            "description": "",
            "description_tooltip": null,
            "layout": "IPY_MODEL_694212e2319f44a7801a148e4f742ca9",
            "max": 791656,
            "min": 0,
            "orientation": "horizontal",
            "style": "IPY_MODEL_de33117b3a60407da4afe44c510037c9",
            "value": 791656
          }
        },
        "1184deb69cf846deb699f368639c646a": {
          "model_module": "@jupyter-widgets/controls",
          "model_module_version": "1.5.0",
          "model_name": "DescriptionStyleModel",
          "state": {
            "_model_module": "@jupyter-widgets/controls",
            "_model_module_version": "1.5.0",
            "_model_name": "DescriptionStyleModel",
            "_view_count": null,
            "_view_module": "@jupyter-widgets/base",
            "_view_module_version": "1.2.0",
            "_view_name": "StyleView",
            "description_width": ""
          }
        },
        "1650f5406b684e4da9e0161763de0bcf": {
          "model_module": "@jupyter-widgets/base",
          "model_module_version": "1.2.0",
          "model_name": "LayoutModel",
          "state": {
            "_model_module": "@jupyter-widgets/base",
            "_model_module_version": "1.2.0",
            "_model_name": "LayoutModel",
            "_view_count": null,
            "_view_module": "@jupyter-widgets/base",
            "_view_module_version": "1.2.0",
            "_view_name": "LayoutView",
            "align_content": null,
            "align_items": null,
            "align_self": null,
            "border": null,
            "bottom": null,
            "display": null,
            "flex": null,
            "flex_flow": null,
            "grid_area": null,
            "grid_auto_columns": null,
            "grid_auto_flow": null,
            "grid_auto_rows": null,
            "grid_column": null,
            "grid_gap": null,
            "grid_row": null,
            "grid_template_areas": null,
            "grid_template_columns": null,
            "grid_template_rows": null,
            "height": null,
            "justify_content": null,
            "justify_items": null,
            "left": null,
            "margin": null,
            "max_height": null,
            "max_width": null,
            "min_height": null,
            "min_width": null,
            "object_fit": null,
            "object_position": null,
            "order": null,
            "overflow": null,
            "overflow_x": null,
            "overflow_y": null,
            "padding": null,
            "right": null,
            "top": null,
            "visibility": null,
            "width": null
          }
        },
        "1fbc81658d7147539f07dec9727393dc": {
          "model_module": "@jupyter-widgets/controls",
          "model_module_version": "1.5.0",
          "model_name": "HTMLModel",
          "state": {
            "_dom_classes": [],
            "_model_module": "@jupyter-widgets/controls",
            "_model_module_version": "1.5.0",
            "_model_name": "HTMLModel",
            "_view_count": null,
            "_view_module": "@jupyter-widgets/controls",
            "_view_module_version": "1.5.0",
            "_view_name": "HTMLView",
            "description": "",
            "description_tooltip": null,
            "layout": "IPY_MODEL_a2d91ac71a7946b680cbb99260dc8fac",
            "placeholder": "​",
            "style": "IPY_MODEL_4cffa39f1f5d4b7ea5be387a09876784",
            "value": " 2.95G/2.95G [02:39&lt;00:00, 17.3MB/s]"
          }
        },
        "1fde454007624451a79a0ebd97dacbba": {
          "model_module": "@jupyter-widgets/base",
          "model_module_version": "1.2.0",
          "model_name": "LayoutModel",
          "state": {
            "_model_module": "@jupyter-widgets/base",
            "_model_module_version": "1.2.0",
            "_model_name": "LayoutModel",
            "_view_count": null,
            "_view_module": "@jupyter-widgets/base",
            "_view_module_version": "1.2.0",
            "_view_name": "LayoutView",
            "align_content": null,
            "align_items": null,
            "align_self": null,
            "border": null,
            "bottom": null,
            "display": null,
            "flex": null,
            "flex_flow": null,
            "grid_area": null,
            "grid_auto_columns": null,
            "grid_auto_flow": null,
            "grid_auto_rows": null,
            "grid_column": null,
            "grid_gap": null,
            "grid_row": null,
            "grid_template_areas": null,
            "grid_template_columns": null,
            "grid_template_rows": null,
            "height": null,
            "justify_content": null,
            "justify_items": null,
            "left": null,
            "margin": null,
            "max_height": null,
            "max_width": null,
            "min_height": null,
            "min_width": null,
            "object_fit": null,
            "object_position": null,
            "order": null,
            "overflow": null,
            "overflow_x": null,
            "overflow_y": null,
            "padding": null,
            "right": null,
            "top": null,
            "visibility": null,
            "width": null
          }
        },
        "213cb3f477bf4506b138baff51a43f35": {
          "model_module": "@jupyter-widgets/base",
          "model_module_version": "1.2.0",
          "model_name": "LayoutModel",
          "state": {
            "_model_module": "@jupyter-widgets/base",
            "_model_module_version": "1.2.0",
            "_model_name": "LayoutModel",
            "_view_count": null,
            "_view_module": "@jupyter-widgets/base",
            "_view_module_version": "1.2.0",
            "_view_name": "LayoutView",
            "align_content": null,
            "align_items": null,
            "align_self": null,
            "border": null,
            "bottom": null,
            "display": null,
            "flex": null,
            "flex_flow": null,
            "grid_area": null,
            "grid_auto_columns": null,
            "grid_auto_flow": null,
            "grid_auto_rows": null,
            "grid_column": null,
            "grid_gap": null,
            "grid_row": null,
            "grid_template_areas": null,
            "grid_template_columns": null,
            "grid_template_rows": null,
            "height": null,
            "justify_content": null,
            "justify_items": null,
            "left": null,
            "margin": null,
            "max_height": null,
            "max_width": null,
            "min_height": null,
            "min_width": null,
            "object_fit": null,
            "object_position": null,
            "order": null,
            "overflow": null,
            "overflow_x": null,
            "overflow_y": null,
            "padding": null,
            "right": null,
            "top": null,
            "visibility": null,
            "width": null
          }
        },
        "24289b9f7f524668a30a875a4ea09fe3": {
          "model_module": "@jupyter-widgets/base",
          "model_module_version": "1.2.0",
          "model_name": "LayoutModel",
          "state": {
            "_model_module": "@jupyter-widgets/base",
            "_model_module_version": "1.2.0",
            "_model_name": "LayoutModel",
            "_view_count": null,
            "_view_module": "@jupyter-widgets/base",
            "_view_module_version": "1.2.0",
            "_view_name": "LayoutView",
            "align_content": null,
            "align_items": null,
            "align_self": null,
            "border": null,
            "bottom": null,
            "display": null,
            "flex": null,
            "flex_flow": null,
            "grid_area": null,
            "grid_auto_columns": null,
            "grid_auto_flow": null,
            "grid_auto_rows": null,
            "grid_column": null,
            "grid_gap": null,
            "grid_row": null,
            "grid_template_areas": null,
            "grid_template_columns": null,
            "grid_template_rows": null,
            "height": null,
            "justify_content": null,
            "justify_items": null,
            "left": null,
            "margin": null,
            "max_height": null,
            "max_width": null,
            "min_height": null,
            "min_width": null,
            "object_fit": null,
            "object_position": null,
            "order": null,
            "overflow": null,
            "overflow_x": null,
            "overflow_y": null,
            "padding": null,
            "right": null,
            "top": null,
            "visibility": null,
            "width": null
          }
        },
        "2623244c76194f348fdeab23936b8b09": {
          "model_module": "@jupyter-widgets/controls",
          "model_module_version": "1.5.0",
          "model_name": "ProgressStyleModel",
          "state": {
            "_model_module": "@jupyter-widgets/controls",
            "_model_module_version": "1.5.0",
            "_model_name": "ProgressStyleModel",
            "_view_count": null,
            "_view_module": "@jupyter-widgets/base",
            "_view_module_version": "1.2.0",
            "_view_name": "StyleView",
            "bar_color": null,
            "description_width": ""
          }
        },
        "2cc1379ed4914304b771415dd5dbcd7a": {
          "model_module": "@jupyter-widgets/controls",
          "model_module_version": "1.5.0",
          "model_name": "FloatProgressModel",
          "state": {
            "_dom_classes": [],
            "_model_module": "@jupyter-widgets/controls",
            "_model_module_version": "1.5.0",
            "_model_name": "FloatProgressModel",
            "_view_count": null,
            "_view_module": "@jupyter-widgets/controls",
            "_view_module_version": "1.5.0",
            "_view_name": "ProgressView",
            "bar_style": "success",
            "description": "",
            "description_tooltip": null,
            "layout": "IPY_MODEL_2f804c0f83e24bc8ab479b0fadf08403",
            "max": 1209,
            "min": 0,
            "orientation": "horizontal",
            "style": "IPY_MODEL_2f1ee389d2c042f2ae6018454ca969e0",
            "value": 1209
          }
        },
        "2f1ee389d2c042f2ae6018454ca969e0": {
          "model_module": "@jupyter-widgets/controls",
          "model_module_version": "1.5.0",
          "model_name": "ProgressStyleModel",
          "state": {
            "_model_module": "@jupyter-widgets/controls",
            "_model_module_version": "1.5.0",
            "_model_name": "ProgressStyleModel",
            "_view_count": null,
            "_view_module": "@jupyter-widgets/base",
            "_view_module_version": "1.2.0",
            "_view_name": "StyleView",
            "bar_color": null,
            "description_width": ""
          }
        },
        "2f804c0f83e24bc8ab479b0fadf08403": {
          "model_module": "@jupyter-widgets/base",
          "model_module_version": "1.2.0",
          "model_name": "LayoutModel",
          "state": {
            "_model_module": "@jupyter-widgets/base",
            "_model_module_version": "1.2.0",
            "_model_name": "LayoutModel",
            "_view_count": null,
            "_view_module": "@jupyter-widgets/base",
            "_view_module_version": "1.2.0",
            "_view_name": "LayoutView",
            "align_content": null,
            "align_items": null,
            "align_self": null,
            "border": null,
            "bottom": null,
            "display": null,
            "flex": null,
            "flex_flow": null,
            "grid_area": null,
            "grid_auto_columns": null,
            "grid_auto_flow": null,
            "grid_auto_rows": null,
            "grid_column": null,
            "grid_gap": null,
            "grid_row": null,
            "grid_template_areas": null,
            "grid_template_columns": null,
            "grid_template_rows": null,
            "height": null,
            "justify_content": null,
            "justify_items": null,
            "left": null,
            "margin": null,
            "max_height": null,
            "max_width": null,
            "min_height": null,
            "min_width": null,
            "object_fit": null,
            "object_position": null,
            "order": null,
            "overflow": null,
            "overflow_x": null,
            "overflow_y": null,
            "padding": null,
            "right": null,
            "top": null,
            "visibility": null,
            "width": null
          }
        },
        "361d98e2b7eb4f23b263d513edca4b18": {
          "model_module": "@jupyter-widgets/base",
          "model_module_version": "1.2.0",
          "model_name": "LayoutModel",
          "state": {
            "_model_module": "@jupyter-widgets/base",
            "_model_module_version": "1.2.0",
            "_model_name": "LayoutModel",
            "_view_count": null,
            "_view_module": "@jupyter-widgets/base",
            "_view_module_version": "1.2.0",
            "_view_name": "LayoutView",
            "align_content": null,
            "align_items": null,
            "align_self": null,
            "border": null,
            "bottom": null,
            "display": null,
            "flex": null,
            "flex_flow": null,
            "grid_area": null,
            "grid_auto_columns": null,
            "grid_auto_flow": null,
            "grid_auto_rows": null,
            "grid_column": null,
            "grid_gap": null,
            "grid_row": null,
            "grid_template_areas": null,
            "grid_template_columns": null,
            "grid_template_rows": null,
            "height": null,
            "justify_content": null,
            "justify_items": null,
            "left": null,
            "margin": null,
            "max_height": null,
            "max_width": null,
            "min_height": null,
            "min_width": null,
            "object_fit": null,
            "object_position": null,
            "order": null,
            "overflow": null,
            "overflow_x": null,
            "overflow_y": null,
            "padding": null,
            "right": null,
            "top": null,
            "visibility": null,
            "width": null
          }
        },
        "4b7448d1ae7c4a47bef1d0f0b30aca9e": {
          "model_module": "@jupyter-widgets/controls",
          "model_module_version": "1.5.0",
          "model_name": "HTMLModel",
          "state": {
            "_dom_classes": [],
            "_model_module": "@jupyter-widgets/controls",
            "_model_module_version": "1.5.0",
            "_model_name": "HTMLModel",
            "_view_count": null,
            "_view_module": "@jupyter-widgets/controls",
            "_view_module_version": "1.5.0",
            "_view_name": "HTMLView",
            "description": "",
            "description_tooltip": null,
            "layout": "IPY_MODEL_d34ea35f825e419fb7d632ba15a0f0d2",
            "placeholder": "​",
            "style": "IPY_MODEL_fd6bc96695364b28bee1c75b80eb0baa",
            "value": "Downloading: 100%"
          }
        },
        "4cffa39f1f5d4b7ea5be387a09876784": {
          "model_module": "@jupyter-widgets/controls",
          "model_module_version": "1.5.0",
          "model_name": "DescriptionStyleModel",
          "state": {
            "_model_module": "@jupyter-widgets/controls",
            "_model_module_version": "1.5.0",
            "_model_name": "DescriptionStyleModel",
            "_view_count": null,
            "_view_module": "@jupyter-widgets/base",
            "_view_module_version": "1.2.0",
            "_view_name": "StyleView",
            "description_width": ""
          }
        },
        "646d2c099a5e4b93a3e9b5e4bd97608e": {
          "model_module": "@jupyter-widgets/controls",
          "model_module_version": "1.5.0",
          "model_name": "DescriptionStyleModel",
          "state": {
            "_model_module": "@jupyter-widgets/controls",
            "_model_module_version": "1.5.0",
            "_model_name": "DescriptionStyleModel",
            "_view_count": null,
            "_view_module": "@jupyter-widgets/base",
            "_view_module_version": "1.2.0",
            "_view_name": "StyleView",
            "description_width": ""
          }
        },
        "694212e2319f44a7801a148e4f742ca9": {
          "model_module": "@jupyter-widgets/base",
          "model_module_version": "1.2.0",
          "model_name": "LayoutModel",
          "state": {
            "_model_module": "@jupyter-widgets/base",
            "_model_module_version": "1.2.0",
            "_model_name": "LayoutModel",
            "_view_count": null,
            "_view_module": "@jupyter-widgets/base",
            "_view_module_version": "1.2.0",
            "_view_name": "LayoutView",
            "align_content": null,
            "align_items": null,
            "align_self": null,
            "border": null,
            "bottom": null,
            "display": null,
            "flex": null,
            "flex_flow": null,
            "grid_area": null,
            "grid_auto_columns": null,
            "grid_auto_flow": null,
            "grid_auto_rows": null,
            "grid_column": null,
            "grid_gap": null,
            "grid_row": null,
            "grid_template_areas": null,
            "grid_template_columns": null,
            "grid_template_rows": null,
            "height": null,
            "justify_content": null,
            "justify_items": null,
            "left": null,
            "margin": null,
            "max_height": null,
            "max_width": null,
            "min_height": null,
            "min_width": null,
            "object_fit": null,
            "object_position": null,
            "order": null,
            "overflow": null,
            "overflow_x": null,
            "overflow_y": null,
            "padding": null,
            "right": null,
            "top": null,
            "visibility": null,
            "width": null
          }
        },
        "6d65ab3320524f04b3e83e1ea511a185": {
          "model_module": "@jupyter-widgets/controls",
          "model_module_version": "1.5.0",
          "model_name": "HTMLModel",
          "state": {
            "_dom_classes": [],
            "_model_module": "@jupyter-widgets/controls",
            "_model_module_version": "1.5.0",
            "_model_name": "HTMLModel",
            "_view_count": null,
            "_view_module": "@jupyter-widgets/controls",
            "_view_module_version": "1.5.0",
            "_view_name": "HTMLView",
            "description": "",
            "description_tooltip": null,
            "layout": "IPY_MODEL_0b156d0427254f0a9daec0d44f792bad",
            "placeholder": "​",
            "style": "IPY_MODEL_b8b6b9bedf6f43e8836ce019d5df5a7e",
            "value": " 792k/792k [00:00&lt;00:00, 3.73MB/s]"
          }
        },
        "86ade24ad53146a3a2bc9f62ea12894c": {
          "model_module": "@jupyter-widgets/base",
          "model_module_version": "1.2.0",
          "model_name": "LayoutModel",
          "state": {
            "_model_module": "@jupyter-widgets/base",
            "_model_module_version": "1.2.0",
            "_model_name": "LayoutModel",
            "_view_count": null,
            "_view_module": "@jupyter-widgets/base",
            "_view_module_version": "1.2.0",
            "_view_name": "LayoutView",
            "align_content": null,
            "align_items": null,
            "align_self": null,
            "border": null,
            "bottom": null,
            "display": null,
            "flex": null,
            "flex_flow": null,
            "grid_area": null,
            "grid_auto_columns": null,
            "grid_auto_flow": null,
            "grid_auto_rows": null,
            "grid_column": null,
            "grid_gap": null,
            "grid_row": null,
            "grid_template_areas": null,
            "grid_template_columns": null,
            "grid_template_rows": null,
            "height": null,
            "justify_content": null,
            "justify_items": null,
            "left": null,
            "margin": null,
            "max_height": null,
            "max_width": null,
            "min_height": null,
            "min_width": null,
            "object_fit": null,
            "object_position": null,
            "order": null,
            "overflow": null,
            "overflow_x": null,
            "overflow_y": null,
            "padding": null,
            "right": null,
            "top": null,
            "visibility": null,
            "width": null
          }
        },
        "8b61dbd7831549b09f18b2a27d5fa54e": {
          "model_module": "@jupyter-widgets/controls",
          "model_module_version": "1.5.0",
          "model_name": "FloatProgressModel",
          "state": {
            "_dom_classes": [],
            "_model_module": "@jupyter-widgets/controls",
            "_model_module_version": "1.5.0",
            "_model_name": "FloatProgressModel",
            "_view_count": null,
            "_view_module": "@jupyter-widgets/controls",
            "_view_module_version": "1.5.0",
            "_view_name": "ProgressView",
            "bar_style": "success",
            "description": "",
            "description_tooltip": null,
            "layout": "IPY_MODEL_86ade24ad53146a3a2bc9f62ea12894c",
            "max": 2950825948,
            "min": 0,
            "orientation": "horizontal",
            "style": "IPY_MODEL_2623244c76194f348fdeab23936b8b09",
            "value": 2950825948
          }
        },
        "960ba5954faa4117b9b245a1afb73cf4": {
          "model_module": "@jupyter-widgets/controls",
          "model_module_version": "1.5.0",
          "model_name": "HBoxModel",
          "state": {
            "_dom_classes": [],
            "_model_module": "@jupyter-widgets/controls",
            "_model_module_version": "1.5.0",
            "_model_name": "HBoxModel",
            "_view_count": null,
            "_view_module": "@jupyter-widgets/controls",
            "_view_module_version": "1.5.0",
            "_view_name": "HBoxView",
            "box_style": "",
            "children": [
              "IPY_MODEL_c799684cdfb1433bbf21bcae234232cc",
              "IPY_MODEL_0d064e76ed2f41ecbf8336f81e183a2d",
              "IPY_MODEL_6d65ab3320524f04b3e83e1ea511a185"
            ],
            "layout": "IPY_MODEL_1650f5406b684e4da9e0161763de0bcf"
          }
        },
        "a2d91ac71a7946b680cbb99260dc8fac": {
          "model_module": "@jupyter-widgets/base",
          "model_module_version": "1.2.0",
          "model_name": "LayoutModel",
          "state": {
            "_model_module": "@jupyter-widgets/base",
            "_model_module_version": "1.2.0",
            "_model_name": "LayoutModel",
            "_view_count": null,
            "_view_module": "@jupyter-widgets/base",
            "_view_module_version": "1.2.0",
            "_view_name": "LayoutView",
            "align_content": null,
            "align_items": null,
            "align_self": null,
            "border": null,
            "bottom": null,
            "display": null,
            "flex": null,
            "flex_flow": null,
            "grid_area": null,
            "grid_auto_columns": null,
            "grid_auto_flow": null,
            "grid_auto_rows": null,
            "grid_column": null,
            "grid_gap": null,
            "grid_row": null,
            "grid_template_areas": null,
            "grid_template_columns": null,
            "grid_template_rows": null,
            "height": null,
            "justify_content": null,
            "justify_items": null,
            "left": null,
            "margin": null,
            "max_height": null,
            "max_width": null,
            "min_height": null,
            "min_width": null,
            "object_fit": null,
            "object_position": null,
            "order": null,
            "overflow": null,
            "overflow_x": null,
            "overflow_y": null,
            "padding": null,
            "right": null,
            "top": null,
            "visibility": null,
            "width": null
          }
        },
        "a4c5862916a74f13a8a34865e4f4dc31": {
          "model_module": "@jupyter-widgets/controls",
          "model_module_version": "1.5.0",
          "model_name": "HBoxModel",
          "state": {
            "_dom_classes": [],
            "_model_module": "@jupyter-widgets/controls",
            "_model_module_version": "1.5.0",
            "_model_name": "HBoxModel",
            "_view_count": null,
            "_view_module": "@jupyter-widgets/controls",
            "_view_module_version": "1.5.0",
            "_view_name": "HBoxView",
            "box_style": "",
            "children": [
              "IPY_MODEL_4b7448d1ae7c4a47bef1d0f0b30aca9e",
              "IPY_MODEL_8b61dbd7831549b09f18b2a27d5fa54e",
              "IPY_MODEL_1fbc81658d7147539f07dec9727393dc"
            ],
            "layout": "IPY_MODEL_bb0eb11472a94228a9ff6993e902b212"
          }
        },
        "a6059a5e552a46848c8070ebe16d9ecd": {
          "model_module": "@jupyter-widgets/controls",
          "model_module_version": "1.5.0",
          "model_name": "HBoxModel",
          "state": {
            "_dom_classes": [],
            "_model_module": "@jupyter-widgets/controls",
            "_model_module_version": "1.5.0",
            "_model_name": "HBoxModel",
            "_view_count": null,
            "_view_module": "@jupyter-widgets/controls",
            "_view_module_version": "1.5.0",
            "_view_name": "HBoxView",
            "box_style": "",
            "children": [
              "IPY_MODEL_d5ed0c383d0a4973afeb2b4dbd3bfd9c",
              "IPY_MODEL_2cc1379ed4914304b771415dd5dbcd7a",
              "IPY_MODEL_da2f8274177743cdbd9eb39d6d29beff"
            ],
            "layout": "IPY_MODEL_213cb3f477bf4506b138baff51a43f35"
          }
        },
        "b8b6b9bedf6f43e8836ce019d5df5a7e": {
          "model_module": "@jupyter-widgets/controls",
          "model_module_version": "1.5.0",
          "model_name": "DescriptionStyleModel",
          "state": {
            "_model_module": "@jupyter-widgets/controls",
            "_model_module_version": "1.5.0",
            "_model_name": "DescriptionStyleModel",
            "_view_count": null,
            "_view_module": "@jupyter-widgets/base",
            "_view_module_version": "1.2.0",
            "_view_name": "StyleView",
            "description_width": ""
          }
        },
        "bb0eb11472a94228a9ff6993e902b212": {
          "model_module": "@jupyter-widgets/base",
          "model_module_version": "1.2.0",
          "model_name": "LayoutModel",
          "state": {
            "_model_module": "@jupyter-widgets/base",
            "_model_module_version": "1.2.0",
            "_model_name": "LayoutModel",
            "_view_count": null,
            "_view_module": "@jupyter-widgets/base",
            "_view_module_version": "1.2.0",
            "_view_name": "LayoutView",
            "align_content": null,
            "align_items": null,
            "align_self": null,
            "border": null,
            "bottom": null,
            "display": null,
            "flex": null,
            "flex_flow": null,
            "grid_area": null,
            "grid_auto_columns": null,
            "grid_auto_flow": null,
            "grid_auto_rows": null,
            "grid_column": null,
            "grid_gap": null,
            "grid_row": null,
            "grid_template_areas": null,
            "grid_template_columns": null,
            "grid_template_rows": null,
            "height": null,
            "justify_content": null,
            "justify_items": null,
            "left": null,
            "margin": null,
            "max_height": null,
            "max_width": null,
            "min_height": null,
            "min_width": null,
            "object_fit": null,
            "object_position": null,
            "order": null,
            "overflow": null,
            "overflow_x": null,
            "overflow_y": null,
            "padding": null,
            "right": null,
            "top": null,
            "visibility": null,
            "width": null
          }
        },
        "be911d78fdfa400cbe9b739c22c3d60a": {
          "model_module": "@jupyter-widgets/controls",
          "model_module_version": "1.5.0",
          "model_name": "DescriptionStyleModel",
          "state": {
            "_model_module": "@jupyter-widgets/controls",
            "_model_module_version": "1.5.0",
            "_model_name": "DescriptionStyleModel",
            "_view_count": null,
            "_view_module": "@jupyter-widgets/base",
            "_view_module_version": "1.2.0",
            "_view_name": "StyleView",
            "description_width": ""
          }
        },
        "c799684cdfb1433bbf21bcae234232cc": {
          "model_module": "@jupyter-widgets/controls",
          "model_module_version": "1.5.0",
          "model_name": "HTMLModel",
          "state": {
            "_dom_classes": [],
            "_model_module": "@jupyter-widgets/controls",
            "_model_module_version": "1.5.0",
            "_model_name": "HTMLModel",
            "_view_count": null,
            "_view_module": "@jupyter-widgets/controls",
            "_view_module_version": "1.5.0",
            "_view_name": "HTMLView",
            "description": "",
            "description_tooltip": null,
            "layout": "IPY_MODEL_1fde454007624451a79a0ebd97dacbba",
            "placeholder": "​",
            "style": "IPY_MODEL_1184deb69cf846deb699f368639c646a",
            "value": "Downloading: 100%"
          }
        },
        "d34ea35f825e419fb7d632ba15a0f0d2": {
          "model_module": "@jupyter-widgets/base",
          "model_module_version": "1.2.0",
          "model_name": "LayoutModel",
          "state": {
            "_model_module": "@jupyter-widgets/base",
            "_model_module_version": "1.2.0",
            "_model_name": "LayoutModel",
            "_view_count": null,
            "_view_module": "@jupyter-widgets/base",
            "_view_module_version": "1.2.0",
            "_view_name": "LayoutView",
            "align_content": null,
            "align_items": null,
            "align_self": null,
            "border": null,
            "bottom": null,
            "display": null,
            "flex": null,
            "flex_flow": null,
            "grid_area": null,
            "grid_auto_columns": null,
            "grid_auto_flow": null,
            "grid_auto_rows": null,
            "grid_column": null,
            "grid_gap": null,
            "grid_row": null,
            "grid_template_areas": null,
            "grid_template_columns": null,
            "grid_template_rows": null,
            "height": null,
            "justify_content": null,
            "justify_items": null,
            "left": null,
            "margin": null,
            "max_height": null,
            "max_width": null,
            "min_height": null,
            "min_width": null,
            "object_fit": null,
            "object_position": null,
            "order": null,
            "overflow": null,
            "overflow_x": null,
            "overflow_y": null,
            "padding": null,
            "right": null,
            "top": null,
            "visibility": null,
            "width": null
          }
        },
        "d5ed0c383d0a4973afeb2b4dbd3bfd9c": {
          "model_module": "@jupyter-widgets/controls",
          "model_module_version": "1.5.0",
          "model_name": "HTMLModel",
          "state": {
            "_dom_classes": [],
            "_model_module": "@jupyter-widgets/controls",
            "_model_module_version": "1.5.0",
            "_model_name": "HTMLModel",
            "_view_count": null,
            "_view_module": "@jupyter-widgets/controls",
            "_view_module_version": "1.5.0",
            "_view_name": "HTMLView",
            "description": "",
            "description_tooltip": null,
            "layout": "IPY_MODEL_361d98e2b7eb4f23b263d513edca4b18",
            "placeholder": "​",
            "style": "IPY_MODEL_646d2c099a5e4b93a3e9b5e4bd97608e",
            "value": "Downloading: 100%"
          }
        },
        "da2f8274177743cdbd9eb39d6d29beff": {
          "model_module": "@jupyter-widgets/controls",
          "model_module_version": "1.5.0",
          "model_name": "HTMLModel",
          "state": {
            "_dom_classes": [],
            "_model_module": "@jupyter-widgets/controls",
            "_model_module_version": "1.5.0",
            "_model_name": "HTMLModel",
            "_view_count": null,
            "_view_module": "@jupyter-widgets/controls",
            "_view_module_version": "1.5.0",
            "_view_name": "HTMLView",
            "description": "",
            "description_tooltip": null,
            "layout": "IPY_MODEL_24289b9f7f524668a30a875a4ea09fe3",
            "placeholder": "​",
            "style": "IPY_MODEL_be911d78fdfa400cbe9b739c22c3d60a",
            "value": " 1.21k/1.21k [00:00&lt;00:00, 19.6kB/s]"
          }
        },
        "de33117b3a60407da4afe44c510037c9": {
          "model_module": "@jupyter-widgets/controls",
          "model_module_version": "1.5.0",
          "model_name": "ProgressStyleModel",
          "state": {
            "_model_module": "@jupyter-widgets/controls",
            "_model_module_version": "1.5.0",
            "_model_name": "ProgressStyleModel",
            "_view_count": null,
            "_view_module": "@jupyter-widgets/base",
            "_view_module_version": "1.2.0",
            "_view_name": "StyleView",
            "bar_color": null,
            "description_width": ""
          }
        },
        "fd6bc96695364b28bee1c75b80eb0baa": {
          "model_module": "@jupyter-widgets/controls",
          "model_module_version": "1.5.0",
          "model_name": "DescriptionStyleModel",
          "state": {
            "_model_module": "@jupyter-widgets/controls",
            "_model_module_version": "1.5.0",
            "_model_name": "DescriptionStyleModel",
            "_view_count": null,
            "_view_module": "@jupyter-widgets/base",
            "_view_module_version": "1.2.0",
            "_view_name": "StyleView",
            "description_width": ""
          }
        },
        "7a3f96bcbd174e9fa794d361e6630745": {
          "model_module": "@jupyter-widgets/controls",
          "model_name": "HBoxModel",
          "model_module_version": "1.5.0",
          "state": {
            "_dom_classes": [],
            "_model_module": "@jupyter-widgets/controls",
            "_model_module_version": "1.5.0",
            "_model_name": "HBoxModel",
            "_view_count": null,
            "_view_module": "@jupyter-widgets/controls",
            "_view_module_version": "1.5.0",
            "_view_name": "HBoxView",
            "box_style": "",
            "children": [
              "IPY_MODEL_cc5e8ea4848e42b89ec629cea7ae417c",
              "IPY_MODEL_fc81e41e6379482bb23c255d0a9c6c9d",
              "IPY_MODEL_87ab55f866e24ee1b1689d05fc51ad81"
            ],
            "layout": "IPY_MODEL_a220bb3f074e48fabca43d96368311b5"
          }
        },
        "cc5e8ea4848e42b89ec629cea7ae417c": {
          "model_module": "@jupyter-widgets/controls",
          "model_name": "HTMLModel",
          "model_module_version": "1.5.0",
          "state": {
            "_dom_classes": [],
            "_model_module": "@jupyter-widgets/controls",
            "_model_module_version": "1.5.0",
            "_model_name": "HTMLModel",
            "_view_count": null,
            "_view_module": "@jupyter-widgets/controls",
            "_view_module_version": "1.5.0",
            "_view_name": "HTMLView",
            "description": "",
            "description_tooltip": null,
            "layout": "IPY_MODEL_24deb700725d492f91f3b1518dc01710",
            "placeholder": "​",
            "style": "IPY_MODEL_a8e4156d32a7404c83547e517e89b2d4",
            "value": "Downloading (…)lve/main/config.json: 100%"
          }
        },
        "fc81e41e6379482bb23c255d0a9c6c9d": {
          "model_module": "@jupyter-widgets/controls",
          "model_name": "FloatProgressModel",
          "model_module_version": "1.5.0",
          "state": {
            "_dom_classes": [],
            "_model_module": "@jupyter-widgets/controls",
            "_model_module_version": "1.5.0",
            "_model_name": "FloatProgressModel",
            "_view_count": null,
            "_view_module": "@jupyter-widgets/controls",
            "_view_module_version": "1.5.0",
            "_view_name": "ProgressView",
            "bar_style": "success",
            "description": "",
            "description_tooltip": null,
            "layout": "IPY_MODEL_2e3a6dfb79a44ab590e7178b9a01d3b1",
            "max": 1209,
            "min": 0,
            "orientation": "horizontal",
            "style": "IPY_MODEL_ee37c7e1cf934ae99b39146e42bb8c5e",
            "value": 1209
          }
        },
        "87ab55f866e24ee1b1689d05fc51ad81": {
          "model_module": "@jupyter-widgets/controls",
          "model_name": "HTMLModel",
          "model_module_version": "1.5.0",
          "state": {
            "_dom_classes": [],
            "_model_module": "@jupyter-widgets/controls",
            "_model_module_version": "1.5.0",
            "_model_name": "HTMLModel",
            "_view_count": null,
            "_view_module": "@jupyter-widgets/controls",
            "_view_module_version": "1.5.0",
            "_view_name": "HTMLView",
            "description": "",
            "description_tooltip": null,
            "layout": "IPY_MODEL_3a450977a5a14796bbf7e0ba69a5b307",
            "placeholder": "​",
            "style": "IPY_MODEL_54aba4de9a34431b9d7d4fd1bf79cf43",
            "value": " 1.21k/1.21k [00:00&lt;00:00, 67.6kB/s]"
          }
        },
        "a220bb3f074e48fabca43d96368311b5": {
          "model_module": "@jupyter-widgets/base",
          "model_name": "LayoutModel",
          "model_module_version": "1.2.0",
          "state": {
            "_model_module": "@jupyter-widgets/base",
            "_model_module_version": "1.2.0",
            "_model_name": "LayoutModel",
            "_view_count": null,
            "_view_module": "@jupyter-widgets/base",
            "_view_module_version": "1.2.0",
            "_view_name": "LayoutView",
            "align_content": null,
            "align_items": null,
            "align_self": null,
            "border": null,
            "bottom": null,
            "display": null,
            "flex": null,
            "flex_flow": null,
            "grid_area": null,
            "grid_auto_columns": null,
            "grid_auto_flow": null,
            "grid_auto_rows": null,
            "grid_column": null,
            "grid_gap": null,
            "grid_row": null,
            "grid_template_areas": null,
            "grid_template_columns": null,
            "grid_template_rows": null,
            "height": null,
            "justify_content": null,
            "justify_items": null,
            "left": null,
            "margin": null,
            "max_height": null,
            "max_width": null,
            "min_height": null,
            "min_width": null,
            "object_fit": null,
            "object_position": null,
            "order": null,
            "overflow": null,
            "overflow_x": null,
            "overflow_y": null,
            "padding": null,
            "right": null,
            "top": null,
            "visibility": null,
            "width": null
          }
        },
        "24deb700725d492f91f3b1518dc01710": {
          "model_module": "@jupyter-widgets/base",
          "model_name": "LayoutModel",
          "model_module_version": "1.2.0",
          "state": {
            "_model_module": "@jupyter-widgets/base",
            "_model_module_version": "1.2.0",
            "_model_name": "LayoutModel",
            "_view_count": null,
            "_view_module": "@jupyter-widgets/base",
            "_view_module_version": "1.2.0",
            "_view_name": "LayoutView",
            "align_content": null,
            "align_items": null,
            "align_self": null,
            "border": null,
            "bottom": null,
            "display": null,
            "flex": null,
            "flex_flow": null,
            "grid_area": null,
            "grid_auto_columns": null,
            "grid_auto_flow": null,
            "grid_auto_rows": null,
            "grid_column": null,
            "grid_gap": null,
            "grid_row": null,
            "grid_template_areas": null,
            "grid_template_columns": null,
            "grid_template_rows": null,
            "height": null,
            "justify_content": null,
            "justify_items": null,
            "left": null,
            "margin": null,
            "max_height": null,
            "max_width": null,
            "min_height": null,
            "min_width": null,
            "object_fit": null,
            "object_position": null,
            "order": null,
            "overflow": null,
            "overflow_x": null,
            "overflow_y": null,
            "padding": null,
            "right": null,
            "top": null,
            "visibility": null,
            "width": null
          }
        },
        "a8e4156d32a7404c83547e517e89b2d4": {
          "model_module": "@jupyter-widgets/controls",
          "model_name": "DescriptionStyleModel",
          "model_module_version": "1.5.0",
          "state": {
            "_model_module": "@jupyter-widgets/controls",
            "_model_module_version": "1.5.0",
            "_model_name": "DescriptionStyleModel",
            "_view_count": null,
            "_view_module": "@jupyter-widgets/base",
            "_view_module_version": "1.2.0",
            "_view_name": "StyleView",
            "description_width": ""
          }
        },
        "2e3a6dfb79a44ab590e7178b9a01d3b1": {
          "model_module": "@jupyter-widgets/base",
          "model_name": "LayoutModel",
          "model_module_version": "1.2.0",
          "state": {
            "_model_module": "@jupyter-widgets/base",
            "_model_module_version": "1.2.0",
            "_model_name": "LayoutModel",
            "_view_count": null,
            "_view_module": "@jupyter-widgets/base",
            "_view_module_version": "1.2.0",
            "_view_name": "LayoutView",
            "align_content": null,
            "align_items": null,
            "align_self": null,
            "border": null,
            "bottom": null,
            "display": null,
            "flex": null,
            "flex_flow": null,
            "grid_area": null,
            "grid_auto_columns": null,
            "grid_auto_flow": null,
            "grid_auto_rows": null,
            "grid_column": null,
            "grid_gap": null,
            "grid_row": null,
            "grid_template_areas": null,
            "grid_template_columns": null,
            "grid_template_rows": null,
            "height": null,
            "justify_content": null,
            "justify_items": null,
            "left": null,
            "margin": null,
            "max_height": null,
            "max_width": null,
            "min_height": null,
            "min_width": null,
            "object_fit": null,
            "object_position": null,
            "order": null,
            "overflow": null,
            "overflow_x": null,
            "overflow_y": null,
            "padding": null,
            "right": null,
            "top": null,
            "visibility": null,
            "width": null
          }
        },
        "ee37c7e1cf934ae99b39146e42bb8c5e": {
          "model_module": "@jupyter-widgets/controls",
          "model_name": "ProgressStyleModel",
          "model_module_version": "1.5.0",
          "state": {
            "_model_module": "@jupyter-widgets/controls",
            "_model_module_version": "1.5.0",
            "_model_name": "ProgressStyleModel",
            "_view_count": null,
            "_view_module": "@jupyter-widgets/base",
            "_view_module_version": "1.2.0",
            "_view_name": "StyleView",
            "bar_color": null,
            "description_width": ""
          }
        },
        "3a450977a5a14796bbf7e0ba69a5b307": {
          "model_module": "@jupyter-widgets/base",
          "model_name": "LayoutModel",
          "model_module_version": "1.2.0",
          "state": {
            "_model_module": "@jupyter-widgets/base",
            "_model_module_version": "1.2.0",
            "_model_name": "LayoutModel",
            "_view_count": null,
            "_view_module": "@jupyter-widgets/base",
            "_view_module_version": "1.2.0",
            "_view_name": "LayoutView",
            "align_content": null,
            "align_items": null,
            "align_self": null,
            "border": null,
            "bottom": null,
            "display": null,
            "flex": null,
            "flex_flow": null,
            "grid_area": null,
            "grid_auto_columns": null,
            "grid_auto_flow": null,
            "grid_auto_rows": null,
            "grid_column": null,
            "grid_gap": null,
            "grid_row": null,
            "grid_template_areas": null,
            "grid_template_columns": null,
            "grid_template_rows": null,
            "height": null,
            "justify_content": null,
            "justify_items": null,
            "left": null,
            "margin": null,
            "max_height": null,
            "max_width": null,
            "min_height": null,
            "min_width": null,
            "object_fit": null,
            "object_position": null,
            "order": null,
            "overflow": null,
            "overflow_x": null,
            "overflow_y": null,
            "padding": null,
            "right": null,
            "top": null,
            "visibility": null,
            "width": null
          }
        },
        "54aba4de9a34431b9d7d4fd1bf79cf43": {
          "model_module": "@jupyter-widgets/controls",
          "model_name": "DescriptionStyleModel",
          "model_module_version": "1.5.0",
          "state": {
            "_model_module": "@jupyter-widgets/controls",
            "_model_module_version": "1.5.0",
            "_model_name": "DescriptionStyleModel",
            "_view_count": null,
            "_view_module": "@jupyter-widgets/base",
            "_view_module_version": "1.2.0",
            "_view_name": "StyleView",
            "description_width": ""
          }
        },
        "11c2fa1cf0e84b63b576a5fa5f4fa7e5": {
          "model_module": "@jupyter-widgets/controls",
          "model_name": "HBoxModel",
          "model_module_version": "1.5.0",
          "state": {
            "_dom_classes": [],
            "_model_module": "@jupyter-widgets/controls",
            "_model_module_version": "1.5.0",
            "_model_name": "HBoxModel",
            "_view_count": null,
            "_view_module": "@jupyter-widgets/controls",
            "_view_module_version": "1.5.0",
            "_view_name": "HBoxView",
            "box_style": "",
            "children": [
              "IPY_MODEL_aa0691a9c8654da1854779af33beb954",
              "IPY_MODEL_a3c5119562014aafa16e3070dd075d66",
              "IPY_MODEL_7ac46d0a36d7489ba57a5ec84e77f788"
            ],
            "layout": "IPY_MODEL_edda840cde0e4421ada1c61179d00b64"
          }
        },
        "aa0691a9c8654da1854779af33beb954": {
          "model_module": "@jupyter-widgets/controls",
          "model_name": "HTMLModel",
          "model_module_version": "1.5.0",
          "state": {
            "_dom_classes": [],
            "_model_module": "@jupyter-widgets/controls",
            "_model_module_version": "1.5.0",
            "_model_name": "HTMLModel",
            "_view_count": null,
            "_view_module": "@jupyter-widgets/controls",
            "_view_module_version": "1.5.0",
            "_view_name": "HTMLView",
            "description": "",
            "description_tooltip": null,
            "layout": "IPY_MODEL_d7f8e828a3a247e5990c4860aad72569",
            "placeholder": "​",
            "style": "IPY_MODEL_327e030d4dd34b7f8c4745d4babf52af",
            "value": "Downloading pytorch_model.bin: 100%"
          }
        },
        "a3c5119562014aafa16e3070dd075d66": {
          "model_module": "@jupyter-widgets/controls",
          "model_name": "FloatProgressModel",
          "model_module_version": "1.5.0",
          "state": {
            "_dom_classes": [],
            "_model_module": "@jupyter-widgets/controls",
            "_model_module_version": "1.5.0",
            "_model_name": "FloatProgressModel",
            "_view_count": null,
            "_view_module": "@jupyter-widgets/controls",
            "_view_module_version": "1.5.0",
            "_view_name": "ProgressView",
            "bar_style": "success",
            "description": "",
            "description_tooltip": null,
            "layout": "IPY_MODEL_fc7cbb3267814550a6d79f0c589f7057",
            "max": 2950825948,
            "min": 0,
            "orientation": "horizontal",
            "style": "IPY_MODEL_2ab10e5cc4de436f88a378dcb7ce7152",
            "value": 2950825948
          }
        },
        "7ac46d0a36d7489ba57a5ec84e77f788": {
          "model_module": "@jupyter-widgets/controls",
          "model_name": "HTMLModel",
          "model_module_version": "1.5.0",
          "state": {
            "_dom_classes": [],
            "_model_module": "@jupyter-widgets/controls",
            "_model_module_version": "1.5.0",
            "_model_name": "HTMLModel",
            "_view_count": null,
            "_view_module": "@jupyter-widgets/controls",
            "_view_module_version": "1.5.0",
            "_view_name": "HTMLView",
            "description": "",
            "description_tooltip": null,
            "layout": "IPY_MODEL_034d6bc83665404493cff12cd7259d91",
            "placeholder": "​",
            "style": "IPY_MODEL_c4f95e02d4444c079d08479325ac189c",
            "value": " 2.95G/2.95G [00:34&lt;00:00, 77.9MB/s]"
          }
        },
        "edda840cde0e4421ada1c61179d00b64": {
          "model_module": "@jupyter-widgets/base",
          "model_name": "LayoutModel",
          "model_module_version": "1.2.0",
          "state": {
            "_model_module": "@jupyter-widgets/base",
            "_model_module_version": "1.2.0",
            "_model_name": "LayoutModel",
            "_view_count": null,
            "_view_module": "@jupyter-widgets/base",
            "_view_module_version": "1.2.0",
            "_view_name": "LayoutView",
            "align_content": null,
            "align_items": null,
            "align_self": null,
            "border": null,
            "bottom": null,
            "display": null,
            "flex": null,
            "flex_flow": null,
            "grid_area": null,
            "grid_auto_columns": null,
            "grid_auto_flow": null,
            "grid_auto_rows": null,
            "grid_column": null,
            "grid_gap": null,
            "grid_row": null,
            "grid_template_areas": null,
            "grid_template_columns": null,
            "grid_template_rows": null,
            "height": null,
            "justify_content": null,
            "justify_items": null,
            "left": null,
            "margin": null,
            "max_height": null,
            "max_width": null,
            "min_height": null,
            "min_width": null,
            "object_fit": null,
            "object_position": null,
            "order": null,
            "overflow": null,
            "overflow_x": null,
            "overflow_y": null,
            "padding": null,
            "right": null,
            "top": null,
            "visibility": null,
            "width": null
          }
        },
        "d7f8e828a3a247e5990c4860aad72569": {
          "model_module": "@jupyter-widgets/base",
          "model_name": "LayoutModel",
          "model_module_version": "1.2.0",
          "state": {
            "_model_module": "@jupyter-widgets/base",
            "_model_module_version": "1.2.0",
            "_model_name": "LayoutModel",
            "_view_count": null,
            "_view_module": "@jupyter-widgets/base",
            "_view_module_version": "1.2.0",
            "_view_name": "LayoutView",
            "align_content": null,
            "align_items": null,
            "align_self": null,
            "border": null,
            "bottom": null,
            "display": null,
            "flex": null,
            "flex_flow": null,
            "grid_area": null,
            "grid_auto_columns": null,
            "grid_auto_flow": null,
            "grid_auto_rows": null,
            "grid_column": null,
            "grid_gap": null,
            "grid_row": null,
            "grid_template_areas": null,
            "grid_template_columns": null,
            "grid_template_rows": null,
            "height": null,
            "justify_content": null,
            "justify_items": null,
            "left": null,
            "margin": null,
            "max_height": null,
            "max_width": null,
            "min_height": null,
            "min_width": null,
            "object_fit": null,
            "object_position": null,
            "order": null,
            "overflow": null,
            "overflow_x": null,
            "overflow_y": null,
            "padding": null,
            "right": null,
            "top": null,
            "visibility": null,
            "width": null
          }
        },
        "327e030d4dd34b7f8c4745d4babf52af": {
          "model_module": "@jupyter-widgets/controls",
          "model_name": "DescriptionStyleModel",
          "model_module_version": "1.5.0",
          "state": {
            "_model_module": "@jupyter-widgets/controls",
            "_model_module_version": "1.5.0",
            "_model_name": "DescriptionStyleModel",
            "_view_count": null,
            "_view_module": "@jupyter-widgets/base",
            "_view_module_version": "1.2.0",
            "_view_name": "StyleView",
            "description_width": ""
          }
        },
        "fc7cbb3267814550a6d79f0c589f7057": {
          "model_module": "@jupyter-widgets/base",
          "model_name": "LayoutModel",
          "model_module_version": "1.2.0",
          "state": {
            "_model_module": "@jupyter-widgets/base",
            "_model_module_version": "1.2.0",
            "_model_name": "LayoutModel",
            "_view_count": null,
            "_view_module": "@jupyter-widgets/base",
            "_view_module_version": "1.2.0",
            "_view_name": "LayoutView",
            "align_content": null,
            "align_items": null,
            "align_self": null,
            "border": null,
            "bottom": null,
            "display": null,
            "flex": null,
            "flex_flow": null,
            "grid_area": null,
            "grid_auto_columns": null,
            "grid_auto_flow": null,
            "grid_auto_rows": null,
            "grid_column": null,
            "grid_gap": null,
            "grid_row": null,
            "grid_template_areas": null,
            "grid_template_columns": null,
            "grid_template_rows": null,
            "height": null,
            "justify_content": null,
            "justify_items": null,
            "left": null,
            "margin": null,
            "max_height": null,
            "max_width": null,
            "min_height": null,
            "min_width": null,
            "object_fit": null,
            "object_position": null,
            "order": null,
            "overflow": null,
            "overflow_x": null,
            "overflow_y": null,
            "padding": null,
            "right": null,
            "top": null,
            "visibility": null,
            "width": null
          }
        },
        "2ab10e5cc4de436f88a378dcb7ce7152": {
          "model_module": "@jupyter-widgets/controls",
          "model_name": "ProgressStyleModel",
          "model_module_version": "1.5.0",
          "state": {
            "_model_module": "@jupyter-widgets/controls",
            "_model_module_version": "1.5.0",
            "_model_name": "ProgressStyleModel",
            "_view_count": null,
            "_view_module": "@jupyter-widgets/base",
            "_view_module_version": "1.2.0",
            "_view_name": "StyleView",
            "bar_color": null,
            "description_width": ""
          }
        },
        "034d6bc83665404493cff12cd7259d91": {
          "model_module": "@jupyter-widgets/base",
          "model_name": "LayoutModel",
          "model_module_version": "1.2.0",
          "state": {
            "_model_module": "@jupyter-widgets/base",
            "_model_module_version": "1.2.0",
            "_model_name": "LayoutModel",
            "_view_count": null,
            "_view_module": "@jupyter-widgets/base",
            "_view_module_version": "1.2.0",
            "_view_name": "LayoutView",
            "align_content": null,
            "align_items": null,
            "align_self": null,
            "border": null,
            "bottom": null,
            "display": null,
            "flex": null,
            "flex_flow": null,
            "grid_area": null,
            "grid_auto_columns": null,
            "grid_auto_flow": null,
            "grid_auto_rows": null,
            "grid_column": null,
            "grid_gap": null,
            "grid_row": null,
            "grid_template_areas": null,
            "grid_template_columns": null,
            "grid_template_rows": null,
            "height": null,
            "justify_content": null,
            "justify_items": null,
            "left": null,
            "margin": null,
            "max_height": null,
            "max_width": null,
            "min_height": null,
            "min_width": null,
            "object_fit": null,
            "object_position": null,
            "order": null,
            "overflow": null,
            "overflow_x": null,
            "overflow_y": null,
            "padding": null,
            "right": null,
            "top": null,
            "visibility": null,
            "width": null
          }
        },
        "c4f95e02d4444c079d08479325ac189c": {
          "model_module": "@jupyter-widgets/controls",
          "model_name": "DescriptionStyleModel",
          "model_module_version": "1.5.0",
          "state": {
            "_model_module": "@jupyter-widgets/controls",
            "_model_module_version": "1.5.0",
            "_model_name": "DescriptionStyleModel",
            "_view_count": null,
            "_view_module": "@jupyter-widgets/base",
            "_view_module_version": "1.2.0",
            "_view_name": "StyleView",
            "description_width": ""
          }
        },
        "92d56af9f6874f7c90f4c7042df98394": {
          "model_module": "@jupyter-widgets/controls",
          "model_name": "HBoxModel",
          "model_module_version": "1.5.0",
          "state": {
            "_dom_classes": [],
            "_model_module": "@jupyter-widgets/controls",
            "_model_module_version": "1.5.0",
            "_model_name": "HBoxModel",
            "_view_count": null,
            "_view_module": "@jupyter-widgets/controls",
            "_view_module_version": "1.5.0",
            "_view_name": "HBoxView",
            "box_style": "",
            "children": [
              "IPY_MODEL_b56aa007cea34d62b41bd0cb27bc9394",
              "IPY_MODEL_15a6e17d3867432c962813346d5d1f5b",
              "IPY_MODEL_62aa59b9b8a94044b9c62c421f405eb4"
            ],
            "layout": "IPY_MODEL_f363f0187fa14dc982c2e5c3ef6e7c0d"
          }
        },
        "b56aa007cea34d62b41bd0cb27bc9394": {
          "model_module": "@jupyter-widgets/controls",
          "model_name": "HTMLModel",
          "model_module_version": "1.5.0",
          "state": {
            "_dom_classes": [],
            "_model_module": "@jupyter-widgets/controls",
            "_model_module_version": "1.5.0",
            "_model_name": "HTMLModel",
            "_view_count": null,
            "_view_module": "@jupyter-widgets/controls",
            "_view_module_version": "1.5.0",
            "_view_name": "HTMLView",
            "description": "",
            "description_tooltip": null,
            "layout": "IPY_MODEL_fdbeb3b078ed445e9959e18deae46ce5",
            "placeholder": "​",
            "style": "IPY_MODEL_30b3cfca3d71441883c5467cbf4ae6c7",
            "value": "Downloading (…)neration_config.json: 100%"
          }
        },
        "15a6e17d3867432c962813346d5d1f5b": {
          "model_module": "@jupyter-widgets/controls",
          "model_name": "FloatProgressModel",
          "model_module_version": "1.5.0",
          "state": {
            "_dom_classes": [],
            "_model_module": "@jupyter-widgets/controls",
            "_model_module_version": "1.5.0",
            "_model_name": "FloatProgressModel",
            "_view_count": null,
            "_view_module": "@jupyter-widgets/controls",
            "_view_module_version": "1.5.0",
            "_view_name": "ProgressView",
            "bar_style": "success",
            "description": "",
            "description_tooltip": null,
            "layout": "IPY_MODEL_8a0258c9eab34f5983ba27c276f616a7",
            "max": 147,
            "min": 0,
            "orientation": "horizontal",
            "style": "IPY_MODEL_c7626b4187d747deb402b422749dc7cb",
            "value": 147
          }
        },
        "62aa59b9b8a94044b9c62c421f405eb4": {
          "model_module": "@jupyter-widgets/controls",
          "model_name": "HTMLModel",
          "model_module_version": "1.5.0",
          "state": {
            "_dom_classes": [],
            "_model_module": "@jupyter-widgets/controls",
            "_model_module_version": "1.5.0",
            "_model_name": "HTMLModel",
            "_view_count": null,
            "_view_module": "@jupyter-widgets/controls",
            "_view_module_version": "1.5.0",
            "_view_name": "HTMLView",
            "description": "",
            "description_tooltip": null,
            "layout": "IPY_MODEL_8aade110e4b748339159625e8f35ad06",
            "placeholder": "​",
            "style": "IPY_MODEL_67063804266448ad8a4fc8f45328f64f",
            "value": " 147/147 [00:00&lt;00:00, 5.55kB/s]"
          }
        },
        "f363f0187fa14dc982c2e5c3ef6e7c0d": {
          "model_module": "@jupyter-widgets/base",
          "model_name": "LayoutModel",
          "model_module_version": "1.2.0",
          "state": {
            "_model_module": "@jupyter-widgets/base",
            "_model_module_version": "1.2.0",
            "_model_name": "LayoutModel",
            "_view_count": null,
            "_view_module": "@jupyter-widgets/base",
            "_view_module_version": "1.2.0",
            "_view_name": "LayoutView",
            "align_content": null,
            "align_items": null,
            "align_self": null,
            "border": null,
            "bottom": null,
            "display": null,
            "flex": null,
            "flex_flow": null,
            "grid_area": null,
            "grid_auto_columns": null,
            "grid_auto_flow": null,
            "grid_auto_rows": null,
            "grid_column": null,
            "grid_gap": null,
            "grid_row": null,
            "grid_template_areas": null,
            "grid_template_columns": null,
            "grid_template_rows": null,
            "height": null,
            "justify_content": null,
            "justify_items": null,
            "left": null,
            "margin": null,
            "max_height": null,
            "max_width": null,
            "min_height": null,
            "min_width": null,
            "object_fit": null,
            "object_position": null,
            "order": null,
            "overflow": null,
            "overflow_x": null,
            "overflow_y": null,
            "padding": null,
            "right": null,
            "top": null,
            "visibility": null,
            "width": null
          }
        },
        "fdbeb3b078ed445e9959e18deae46ce5": {
          "model_module": "@jupyter-widgets/base",
          "model_name": "LayoutModel",
          "model_module_version": "1.2.0",
          "state": {
            "_model_module": "@jupyter-widgets/base",
            "_model_module_version": "1.2.0",
            "_model_name": "LayoutModel",
            "_view_count": null,
            "_view_module": "@jupyter-widgets/base",
            "_view_module_version": "1.2.0",
            "_view_name": "LayoutView",
            "align_content": null,
            "align_items": null,
            "align_self": null,
            "border": null,
            "bottom": null,
            "display": null,
            "flex": null,
            "flex_flow": null,
            "grid_area": null,
            "grid_auto_columns": null,
            "grid_auto_flow": null,
            "grid_auto_rows": null,
            "grid_column": null,
            "grid_gap": null,
            "grid_row": null,
            "grid_template_areas": null,
            "grid_template_columns": null,
            "grid_template_rows": null,
            "height": null,
            "justify_content": null,
            "justify_items": null,
            "left": null,
            "margin": null,
            "max_height": null,
            "max_width": null,
            "min_height": null,
            "min_width": null,
            "object_fit": null,
            "object_position": null,
            "order": null,
            "overflow": null,
            "overflow_x": null,
            "overflow_y": null,
            "padding": null,
            "right": null,
            "top": null,
            "visibility": null,
            "width": null
          }
        },
        "30b3cfca3d71441883c5467cbf4ae6c7": {
          "model_module": "@jupyter-widgets/controls",
          "model_name": "DescriptionStyleModel",
          "model_module_version": "1.5.0",
          "state": {
            "_model_module": "@jupyter-widgets/controls",
            "_model_module_version": "1.5.0",
            "_model_name": "DescriptionStyleModel",
            "_view_count": null,
            "_view_module": "@jupyter-widgets/base",
            "_view_module_version": "1.2.0",
            "_view_name": "StyleView",
            "description_width": ""
          }
        },
        "8a0258c9eab34f5983ba27c276f616a7": {
          "model_module": "@jupyter-widgets/base",
          "model_name": "LayoutModel",
          "model_module_version": "1.2.0",
          "state": {
            "_model_module": "@jupyter-widgets/base",
            "_model_module_version": "1.2.0",
            "_model_name": "LayoutModel",
            "_view_count": null,
            "_view_module": "@jupyter-widgets/base",
            "_view_module_version": "1.2.0",
            "_view_name": "LayoutView",
            "align_content": null,
            "align_items": null,
            "align_self": null,
            "border": null,
            "bottom": null,
            "display": null,
            "flex": null,
            "flex_flow": null,
            "grid_area": null,
            "grid_auto_columns": null,
            "grid_auto_flow": null,
            "grid_auto_rows": null,
            "grid_column": null,
            "grid_gap": null,
            "grid_row": null,
            "grid_template_areas": null,
            "grid_template_columns": null,
            "grid_template_rows": null,
            "height": null,
            "justify_content": null,
            "justify_items": null,
            "left": null,
            "margin": null,
            "max_height": null,
            "max_width": null,
            "min_height": null,
            "min_width": null,
            "object_fit": null,
            "object_position": null,
            "order": null,
            "overflow": null,
            "overflow_x": null,
            "overflow_y": null,
            "padding": null,
            "right": null,
            "top": null,
            "visibility": null,
            "width": null
          }
        },
        "c7626b4187d747deb402b422749dc7cb": {
          "model_module": "@jupyter-widgets/controls",
          "model_name": "ProgressStyleModel",
          "model_module_version": "1.5.0",
          "state": {
            "_model_module": "@jupyter-widgets/controls",
            "_model_module_version": "1.5.0",
            "_model_name": "ProgressStyleModel",
            "_view_count": null,
            "_view_module": "@jupyter-widgets/base",
            "_view_module_version": "1.2.0",
            "_view_name": "StyleView",
            "bar_color": null,
            "description_width": ""
          }
        },
        "8aade110e4b748339159625e8f35ad06": {
          "model_module": "@jupyter-widgets/base",
          "model_name": "LayoutModel",
          "model_module_version": "1.2.0",
          "state": {
            "_model_module": "@jupyter-widgets/base",
            "_model_module_version": "1.2.0",
            "_model_name": "LayoutModel",
            "_view_count": null,
            "_view_module": "@jupyter-widgets/base",
            "_view_module_version": "1.2.0",
            "_view_name": "LayoutView",
            "align_content": null,
            "align_items": null,
            "align_self": null,
            "border": null,
            "bottom": null,
            "display": null,
            "flex": null,
            "flex_flow": null,
            "grid_area": null,
            "grid_auto_columns": null,
            "grid_auto_flow": null,
            "grid_auto_rows": null,
            "grid_column": null,
            "grid_gap": null,
            "grid_row": null,
            "grid_template_areas": null,
            "grid_template_columns": null,
            "grid_template_rows": null,
            "height": null,
            "justify_content": null,
            "justify_items": null,
            "left": null,
            "margin": null,
            "max_height": null,
            "max_width": null,
            "min_height": null,
            "min_width": null,
            "object_fit": null,
            "object_position": null,
            "order": null,
            "overflow": null,
            "overflow_x": null,
            "overflow_y": null,
            "padding": null,
            "right": null,
            "top": null,
            "visibility": null,
            "width": null
          }
        },
        "67063804266448ad8a4fc8f45328f64f": {
          "model_module": "@jupyter-widgets/controls",
          "model_name": "DescriptionStyleModel",
          "model_module_version": "1.5.0",
          "state": {
            "_model_module": "@jupyter-widgets/controls",
            "_model_module_version": "1.5.0",
            "_model_name": "DescriptionStyleModel",
            "_view_count": null,
            "_view_module": "@jupyter-widgets/base",
            "_view_module_version": "1.2.0",
            "_view_name": "StyleView",
            "description_width": ""
          }
        },
        "748a92f9e0be4c7ba402fe37b4478f4f": {
          "model_module": "@jupyter-widgets/controls",
          "model_name": "HBoxModel",
          "model_module_version": "1.5.0",
          "state": {
            "_dom_classes": [],
            "_model_module": "@jupyter-widgets/controls",
            "_model_module_version": "1.5.0",
            "_model_name": "HBoxModel",
            "_view_count": null,
            "_view_module": "@jupyter-widgets/controls",
            "_view_module_version": "1.5.0",
            "_view_name": "HBoxView",
            "box_style": "",
            "children": [
              "IPY_MODEL_5ef50ce12d8a4c5484faa16e8daa3fb5",
              "IPY_MODEL_227cddde2e6f40afa9d1b57a08e66c72",
              "IPY_MODEL_5fdb83de62354bda82a23910cf42c933"
            ],
            "layout": "IPY_MODEL_bd5a36bfc37c4087b4f342ab2f295236"
          }
        },
        "5ef50ce12d8a4c5484faa16e8daa3fb5": {
          "model_module": "@jupyter-widgets/controls",
          "model_name": "HTMLModel",
          "model_module_version": "1.5.0",
          "state": {
            "_dom_classes": [],
            "_model_module": "@jupyter-widgets/controls",
            "_model_module_version": "1.5.0",
            "_model_name": "HTMLModel",
            "_view_count": null,
            "_view_module": "@jupyter-widgets/controls",
            "_view_module_version": "1.5.0",
            "_view_name": "HTMLView",
            "description": "",
            "description_tooltip": null,
            "layout": "IPY_MODEL_bcbb10e105d64ee49360f2a83c2a15c5",
            "placeholder": "​",
            "style": "IPY_MODEL_9984c1d3ec2d496f891b4ad9804e7265",
            "value": "Downloading (…)ve/main/spiece.model: 100%"
          }
        },
        "227cddde2e6f40afa9d1b57a08e66c72": {
          "model_module": "@jupyter-widgets/controls",
          "model_name": "FloatProgressModel",
          "model_module_version": "1.5.0",
          "state": {
            "_dom_classes": [],
            "_model_module": "@jupyter-widgets/controls",
            "_model_module_version": "1.5.0",
            "_model_name": "FloatProgressModel",
            "_view_count": null,
            "_view_module": "@jupyter-widgets/controls",
            "_view_module_version": "1.5.0",
            "_view_name": "ProgressView",
            "bar_style": "success",
            "description": "",
            "description_tooltip": null,
            "layout": "IPY_MODEL_88911dd26c0142a39c9dc5af8a94f538",
            "max": 791656,
            "min": 0,
            "orientation": "horizontal",
            "style": "IPY_MODEL_b5b45ab74fdd4412aa302a97eb08f2d3",
            "value": 791656
          }
        },
        "5fdb83de62354bda82a23910cf42c933": {
          "model_module": "@jupyter-widgets/controls",
          "model_name": "HTMLModel",
          "model_module_version": "1.5.0",
          "state": {
            "_dom_classes": [],
            "_model_module": "@jupyter-widgets/controls",
            "_model_module_version": "1.5.0",
            "_model_name": "HTMLModel",
            "_view_count": null,
            "_view_module": "@jupyter-widgets/controls",
            "_view_module_version": "1.5.0",
            "_view_name": "HTMLView",
            "description": "",
            "description_tooltip": null,
            "layout": "IPY_MODEL_806441acdabd4f5f8a94c1a5a210703b",
            "placeholder": "​",
            "style": "IPY_MODEL_4f4c4d9c5c494d69b6880b362c584800",
            "value": " 792k/792k [00:00&lt;00:00, 1.14MB/s]"
          }
        },
        "bd5a36bfc37c4087b4f342ab2f295236": {
          "model_module": "@jupyter-widgets/base",
          "model_name": "LayoutModel",
          "model_module_version": "1.2.0",
          "state": {
            "_model_module": "@jupyter-widgets/base",
            "_model_module_version": "1.2.0",
            "_model_name": "LayoutModel",
            "_view_count": null,
            "_view_module": "@jupyter-widgets/base",
            "_view_module_version": "1.2.0",
            "_view_name": "LayoutView",
            "align_content": null,
            "align_items": null,
            "align_self": null,
            "border": null,
            "bottom": null,
            "display": null,
            "flex": null,
            "flex_flow": null,
            "grid_area": null,
            "grid_auto_columns": null,
            "grid_auto_flow": null,
            "grid_auto_rows": null,
            "grid_column": null,
            "grid_gap": null,
            "grid_row": null,
            "grid_template_areas": null,
            "grid_template_columns": null,
            "grid_template_rows": null,
            "height": null,
            "justify_content": null,
            "justify_items": null,
            "left": null,
            "margin": null,
            "max_height": null,
            "max_width": null,
            "min_height": null,
            "min_width": null,
            "object_fit": null,
            "object_position": null,
            "order": null,
            "overflow": null,
            "overflow_x": null,
            "overflow_y": null,
            "padding": null,
            "right": null,
            "top": null,
            "visibility": null,
            "width": null
          }
        },
        "bcbb10e105d64ee49360f2a83c2a15c5": {
          "model_module": "@jupyter-widgets/base",
          "model_name": "LayoutModel",
          "model_module_version": "1.2.0",
          "state": {
            "_model_module": "@jupyter-widgets/base",
            "_model_module_version": "1.2.0",
            "_model_name": "LayoutModel",
            "_view_count": null,
            "_view_module": "@jupyter-widgets/base",
            "_view_module_version": "1.2.0",
            "_view_name": "LayoutView",
            "align_content": null,
            "align_items": null,
            "align_self": null,
            "border": null,
            "bottom": null,
            "display": null,
            "flex": null,
            "flex_flow": null,
            "grid_area": null,
            "grid_auto_columns": null,
            "grid_auto_flow": null,
            "grid_auto_rows": null,
            "grid_column": null,
            "grid_gap": null,
            "grid_row": null,
            "grid_template_areas": null,
            "grid_template_columns": null,
            "grid_template_rows": null,
            "height": null,
            "justify_content": null,
            "justify_items": null,
            "left": null,
            "margin": null,
            "max_height": null,
            "max_width": null,
            "min_height": null,
            "min_width": null,
            "object_fit": null,
            "object_position": null,
            "order": null,
            "overflow": null,
            "overflow_x": null,
            "overflow_y": null,
            "padding": null,
            "right": null,
            "top": null,
            "visibility": null,
            "width": null
          }
        },
        "9984c1d3ec2d496f891b4ad9804e7265": {
          "model_module": "@jupyter-widgets/controls",
          "model_name": "DescriptionStyleModel",
          "model_module_version": "1.5.0",
          "state": {
            "_model_module": "@jupyter-widgets/controls",
            "_model_module_version": "1.5.0",
            "_model_name": "DescriptionStyleModel",
            "_view_count": null,
            "_view_module": "@jupyter-widgets/base",
            "_view_module_version": "1.2.0",
            "_view_name": "StyleView",
            "description_width": ""
          }
        },
        "88911dd26c0142a39c9dc5af8a94f538": {
          "model_module": "@jupyter-widgets/base",
          "model_name": "LayoutModel",
          "model_module_version": "1.2.0",
          "state": {
            "_model_module": "@jupyter-widgets/base",
            "_model_module_version": "1.2.0",
            "_model_name": "LayoutModel",
            "_view_count": null,
            "_view_module": "@jupyter-widgets/base",
            "_view_module_version": "1.2.0",
            "_view_name": "LayoutView",
            "align_content": null,
            "align_items": null,
            "align_self": null,
            "border": null,
            "bottom": null,
            "display": null,
            "flex": null,
            "flex_flow": null,
            "grid_area": null,
            "grid_auto_columns": null,
            "grid_auto_flow": null,
            "grid_auto_rows": null,
            "grid_column": null,
            "grid_gap": null,
            "grid_row": null,
            "grid_template_areas": null,
            "grid_template_columns": null,
            "grid_template_rows": null,
            "height": null,
            "justify_content": null,
            "justify_items": null,
            "left": null,
            "margin": null,
            "max_height": null,
            "max_width": null,
            "min_height": null,
            "min_width": null,
            "object_fit": null,
            "object_position": null,
            "order": null,
            "overflow": null,
            "overflow_x": null,
            "overflow_y": null,
            "padding": null,
            "right": null,
            "top": null,
            "visibility": null,
            "width": null
          }
        },
        "b5b45ab74fdd4412aa302a97eb08f2d3": {
          "model_module": "@jupyter-widgets/controls",
          "model_name": "ProgressStyleModel",
          "model_module_version": "1.5.0",
          "state": {
            "_model_module": "@jupyter-widgets/controls",
            "_model_module_version": "1.5.0",
            "_model_name": "ProgressStyleModel",
            "_view_count": null,
            "_view_module": "@jupyter-widgets/base",
            "_view_module_version": "1.2.0",
            "_view_name": "StyleView",
            "bar_color": null,
            "description_width": ""
          }
        },
        "806441acdabd4f5f8a94c1a5a210703b": {
          "model_module": "@jupyter-widgets/base",
          "model_name": "LayoutModel",
          "model_module_version": "1.2.0",
          "state": {
            "_model_module": "@jupyter-widgets/base",
            "_model_module_version": "1.2.0",
            "_model_name": "LayoutModel",
            "_view_count": null,
            "_view_module": "@jupyter-widgets/base",
            "_view_module_version": "1.2.0",
            "_view_name": "LayoutView",
            "align_content": null,
            "align_items": null,
            "align_self": null,
            "border": null,
            "bottom": null,
            "display": null,
            "flex": null,
            "flex_flow": null,
            "grid_area": null,
            "grid_auto_columns": null,
            "grid_auto_flow": null,
            "grid_auto_rows": null,
            "grid_column": null,
            "grid_gap": null,
            "grid_row": null,
            "grid_template_areas": null,
            "grid_template_columns": null,
            "grid_template_rows": null,
            "height": null,
            "justify_content": null,
            "justify_items": null,
            "left": null,
            "margin": null,
            "max_height": null,
            "max_width": null,
            "min_height": null,
            "min_width": null,
            "object_fit": null,
            "object_position": null,
            "order": null,
            "overflow": null,
            "overflow_x": null,
            "overflow_y": null,
            "padding": null,
            "right": null,
            "top": null,
            "visibility": null,
            "width": null
          }
        },
        "4f4c4d9c5c494d69b6880b362c584800": {
          "model_module": "@jupyter-widgets/controls",
          "model_name": "DescriptionStyleModel",
          "model_module_version": "1.5.0",
          "state": {
            "_model_module": "@jupyter-widgets/controls",
            "_model_module_version": "1.5.0",
            "_model_name": "DescriptionStyleModel",
            "_view_count": null,
            "_view_module": "@jupyter-widgets/base",
            "_view_module_version": "1.2.0",
            "_view_name": "StyleView",
            "description_width": ""
          }
        }
      }
    }
  },
  "nbformat": 4,
  "nbformat_minor": 0
}